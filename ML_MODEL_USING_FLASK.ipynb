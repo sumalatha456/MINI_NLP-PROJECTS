{
  "nbformat": 4,
  "nbformat_minor": 0,
  "metadata": {
    "colab": {
      "provenance": [],
      "authorship_tag": "ABX9TyP6AZNAM7Cpa+ey/5SWZZ23",
      "include_colab_link": true
    },
    "kernelspec": {
      "name": "python3",
      "display_name": "Python 3"
    },
    "language_info": {
      "name": "python"
    }
  },
  "cells": [
    {
      "cell_type": "markdown",
      "metadata": {
        "id": "view-in-github",
        "colab_type": "text"
      },
      "source": [
        "<a href=\"https://colab.research.google.com/github/sumalatha456/MINI_NLP-PROJECTS/blob/main/ML_MODEL_USING_FLASK.ipynb\" target=\"_parent\"><img src=\"https://colab.research.google.com/assets/colab-badge.svg\" alt=\"Open In Colab\"/></a>"
      ]
    },
    {
      "cell_type": "markdown",
      "source": [
        "ML MODEL BUILDING AND DEPLOYMENT USING FLASK"
      ],
      "metadata": {
        "id": "v6ClDwA-2r86"
      }
    },
    {
      "cell_type": "markdown",
      "source": [
        "##Fake News Detection"
      ],
      "metadata": {
        "id": "81WABUFx2x91"
      }
    },
    {
      "cell_type": "code",
      "source": [
        "import pandas as pd\n",
        "import numpy as np\n",
        "import seaborn as sns\n",
        "import matplotlib.pyplot as plt\n",
        "\n",
        "\n"
      ],
      "metadata": {
        "id": "qUDFzd7u2wi5"
      },
      "execution_count": 5,
      "outputs": []
    },
    {
      "source": [
        "import pandas as pd\n",
        "\n",
        "# Try using a different delimiter, such as a tab or semicolon\n",
        "df = pd.read_csv(\"fake_news.csv\", encoding='ISO-8859-1', sep=',', on_bad_lines='skip')\n",
        "\n",
        "print(df.head())"
      ],
      "cell_type": "code",
      "metadata": {
        "colab": {
          "base_uri": "https://localhost:8080/"
        },
        "id": "zj3kLyxt_gQB",
        "outputId": "3a52cd6c-2b98-4e8f-ec5b-87c041344030"
      },
      "execution_count": 6,
      "outputs": [
        {
          "output_type": "stream",
          "name": "stdout",
          "text": [
            "  id                                              title              author  \\\n",
            "0  0  House Dem Aide: We Didn\u0019t Even See Comey\u0019s Let...       Darrell Lucus   \n",
            "1  1  FLYNN: Hillary Clinton, Big Woman on Campus - ...     Daniel J. Flynn   \n",
            "2  2                  Why the Truth Might Get You Fired  Consortiumnews.com   \n",
            "3  3  15 Civilians Killed In Single US Airstrike Hav...     Jessica Purkiss   \n",
            "4  4  Iranian woman jailed for fictional unpublished...      Howard Portnoy   \n",
            "\n",
            "                                                text label  \n",
            "0  House Dem Aide: We Didn\u0019t Even See Comey\u0019s Let...     1  \n",
            "1  Ever get the feeling your life circles the rou...     0  \n",
            "2  Why the Truth Might Get You Fired October 29, ...     1  \n",
            "3  Videos 15 Civilians Killed In Single US Airstr...     1  \n",
            "4  Print \\nAn Iranian woman has been sentenced to...     1  \n"
          ]
        }
      ]
    },
    {
      "cell_type": "code",
      "source": [
        "df.shape"
      ],
      "metadata": {
        "colab": {
          "base_uri": "https://localhost:8080/"
        },
        "collapsed": true,
        "id": "zBGuouXn3vlD",
        "outputId": "e52a32cc-dfbd-4bf5-a6a4-514bf3977cdd"
      },
      "execution_count": 7,
      "outputs": [
        {
          "output_type": "execute_result",
          "data": {
            "text/plain": [
              "(22568, 5)"
            ]
          },
          "metadata": {},
          "execution_count": 7
        }
      ]
    },
    {
      "cell_type": "code",
      "source": [
        "df.info()\n"
      ],
      "metadata": {
        "colab": {
          "base_uri": "https://localhost:8080/"
        },
        "id": "yNmjd2XD3yIy",
        "outputId": "018e8309-0fd7-4d17-e803-fcc689de6348"
      },
      "execution_count": 8,
      "outputs": [
        {
          "output_type": "stream",
          "name": "stdout",
          "text": [
            "<class 'pandas.core.frame.DataFrame'>\n",
            "RangeIndex: 22568 entries, 0 to 22567\n",
            "Data columns (total 5 columns):\n",
            " #   Column  Non-Null Count  Dtype \n",
            "---  ------  --------------  ----- \n",
            " 0   id      22568 non-null  object\n",
            " 1   title   21146 non-null  object\n",
            " 2   author  19252 non-null  object\n",
            " 3   text    20762 non-null  object\n",
            " 4   label   20531 non-null  object\n",
            "dtypes: object(5)\n",
            "memory usage: 881.7+ KB\n"
          ]
        }
      ]
    },
    {
      "cell_type": "code",
      "source": [
        "df.isna().sum()"
      ],
      "metadata": {
        "colab": {
          "base_uri": "https://localhost:8080/",
          "height": 241
        },
        "id": "lHfPIWV731SF",
        "outputId": "414dbdd6-5616-45e6-b722-8c34fd2dba2b"
      },
      "execution_count": 9,
      "outputs": [
        {
          "output_type": "execute_result",
          "data": {
            "text/plain": [
              "id           0\n",
              "title     1422\n",
              "author    3316\n",
              "text      1806\n",
              "label     2037\n",
              "dtype: int64"
            ],
            "text/html": [
              "<div>\n",
              "<style scoped>\n",
              "    .dataframe tbody tr th:only-of-type {\n",
              "        vertical-align: middle;\n",
              "    }\n",
              "\n",
              "    .dataframe tbody tr th {\n",
              "        vertical-align: top;\n",
              "    }\n",
              "\n",
              "    .dataframe thead th {\n",
              "        text-align: right;\n",
              "    }\n",
              "</style>\n",
              "<table border=\"1\" class=\"dataframe\">\n",
              "  <thead>\n",
              "    <tr style=\"text-align: right;\">\n",
              "      <th></th>\n",
              "      <th>0</th>\n",
              "    </tr>\n",
              "  </thead>\n",
              "  <tbody>\n",
              "    <tr>\n",
              "      <th>id</th>\n",
              "      <td>0</td>\n",
              "    </tr>\n",
              "    <tr>\n",
              "      <th>title</th>\n",
              "      <td>1422</td>\n",
              "    </tr>\n",
              "    <tr>\n",
              "      <th>author</th>\n",
              "      <td>3316</td>\n",
              "    </tr>\n",
              "    <tr>\n",
              "      <th>text</th>\n",
              "      <td>1806</td>\n",
              "    </tr>\n",
              "    <tr>\n",
              "      <th>label</th>\n",
              "      <td>2037</td>\n",
              "    </tr>\n",
              "  </tbody>\n",
              "</table>\n",
              "</div><br><label><b>dtype:</b> int64</label>"
            ]
          },
          "metadata": {},
          "execution_count": 9
        }
      ]
    },
    {
      "cell_type": "code",
      "source": [
        "df = df.drop(['id'], axis =1)"
      ],
      "metadata": {
        "id": "aU7Kz0Ru-u7_"
      },
      "execution_count": 10,
      "outputs": []
    },
    {
      "cell_type": "code",
      "source": [
        "df = df.dropna()"
      ],
      "metadata": {
        "id": "-3vY8Pol8kVN"
      },
      "execution_count": 11,
      "outputs": []
    },
    {
      "cell_type": "code",
      "source": [
        "df = df.fillna(\"\")"
      ],
      "metadata": {
        "id": "HawDdUUkAWWc"
      },
      "execution_count": 12,
      "outputs": []
    },
    {
      "cell_type": "code",
      "source": [
        "df=df.drop(['title','author','text'],axis=1)"
      ],
      "metadata": {
        "id": "C2HUxisR7ovS"
      },
      "execution_count": 13,
      "outputs": []
    },
    {
      "cell_type": "code",
      "source": [
        "df.head()"
      ],
      "metadata": {
        "colab": {
          "base_uri": "https://localhost:8080/",
          "height": 206
        },
        "id": "uXTbiJWU8eTd",
        "outputId": "eccaacb6-3596-4d06-9b4b-9ba6f18d0f39"
      },
      "execution_count": 14,
      "outputs": [
        {
          "output_type": "execute_result",
          "data": {
            "text/plain": [
              "  label\n",
              "0     1\n",
              "1     0\n",
              "2     1\n",
              "3     1\n",
              "4     1"
            ],
            "text/html": [
              "\n",
              "  <div id=\"df-4460b5f9-4662-4b8f-86be-4259239f3902\" class=\"colab-df-container\">\n",
              "    <div>\n",
              "<style scoped>\n",
              "    .dataframe tbody tr th:only-of-type {\n",
              "        vertical-align: middle;\n",
              "    }\n",
              "\n",
              "    .dataframe tbody tr th {\n",
              "        vertical-align: top;\n",
              "    }\n",
              "\n",
              "    .dataframe thead th {\n",
              "        text-align: right;\n",
              "    }\n",
              "</style>\n",
              "<table border=\"1\" class=\"dataframe\">\n",
              "  <thead>\n",
              "    <tr style=\"text-align: right;\">\n",
              "      <th></th>\n",
              "      <th>label</th>\n",
              "    </tr>\n",
              "  </thead>\n",
              "  <tbody>\n",
              "    <tr>\n",
              "      <th>0</th>\n",
              "      <td>1</td>\n",
              "    </tr>\n",
              "    <tr>\n",
              "      <th>1</th>\n",
              "      <td>0</td>\n",
              "    </tr>\n",
              "    <tr>\n",
              "      <th>2</th>\n",
              "      <td>1</td>\n",
              "    </tr>\n",
              "    <tr>\n",
              "      <th>3</th>\n",
              "      <td>1</td>\n",
              "    </tr>\n",
              "    <tr>\n",
              "      <th>4</th>\n",
              "      <td>1</td>\n",
              "    </tr>\n",
              "  </tbody>\n",
              "</table>\n",
              "</div>\n",
              "    <div class=\"colab-df-buttons\">\n",
              "\n",
              "  <div class=\"colab-df-container\">\n",
              "    <button class=\"colab-df-convert\" onclick=\"convertToInteractive('df-4460b5f9-4662-4b8f-86be-4259239f3902')\"\n",
              "            title=\"Convert this dataframe to an interactive table.\"\n",
              "            style=\"display:none;\">\n",
              "\n",
              "  <svg xmlns=\"http://www.w3.org/2000/svg\" height=\"24px\" viewBox=\"0 -960 960 960\">\n",
              "    <path d=\"M120-120v-720h720v720H120Zm60-500h600v-160H180v160Zm220 220h160v-160H400v160Zm0 220h160v-160H400v160ZM180-400h160v-160H180v160Zm440 0h160v-160H620v160ZM180-180h160v-160H180v160Zm440 0h160v-160H620v160Z\"/>\n",
              "  </svg>\n",
              "    </button>\n",
              "\n",
              "  <style>\n",
              "    .colab-df-container {\n",
              "      display:flex;\n",
              "      gap: 12px;\n",
              "    }\n",
              "\n",
              "    .colab-df-convert {\n",
              "      background-color: #E8F0FE;\n",
              "      border: none;\n",
              "      border-radius: 50%;\n",
              "      cursor: pointer;\n",
              "      display: none;\n",
              "      fill: #1967D2;\n",
              "      height: 32px;\n",
              "      padding: 0 0 0 0;\n",
              "      width: 32px;\n",
              "    }\n",
              "\n",
              "    .colab-df-convert:hover {\n",
              "      background-color: #E2EBFA;\n",
              "      box-shadow: 0px 1px 2px rgba(60, 64, 67, 0.3), 0px 1px 3px 1px rgba(60, 64, 67, 0.15);\n",
              "      fill: #174EA6;\n",
              "    }\n",
              "\n",
              "    .colab-df-buttons div {\n",
              "      margin-bottom: 4px;\n",
              "    }\n",
              "\n",
              "    [theme=dark] .colab-df-convert {\n",
              "      background-color: #3B4455;\n",
              "      fill: #D2E3FC;\n",
              "    }\n",
              "\n",
              "    [theme=dark] .colab-df-convert:hover {\n",
              "      background-color: #434B5C;\n",
              "      box-shadow: 0px 1px 3px 1px rgba(0, 0, 0, 0.15);\n",
              "      filter: drop-shadow(0px 1px 2px rgba(0, 0, 0, 0.3));\n",
              "      fill: #FFFFFF;\n",
              "    }\n",
              "  </style>\n",
              "\n",
              "    <script>\n",
              "      const buttonEl =\n",
              "        document.querySelector('#df-4460b5f9-4662-4b8f-86be-4259239f3902 button.colab-df-convert');\n",
              "      buttonEl.style.display =\n",
              "        google.colab.kernel.accessAllowed ? 'block' : 'none';\n",
              "\n",
              "      async function convertToInteractive(key) {\n",
              "        const element = document.querySelector('#df-4460b5f9-4662-4b8f-86be-4259239f3902');\n",
              "        const dataTable =\n",
              "          await google.colab.kernel.invokeFunction('convertToInteractive',\n",
              "                                                    [key], {});\n",
              "        if (!dataTable) return;\n",
              "\n",
              "        const docLinkHtml = 'Like what you see? Visit the ' +\n",
              "          '<a target=\"_blank\" href=https://colab.research.google.com/notebooks/data_table.ipynb>data table notebook</a>'\n",
              "          + ' to learn more about interactive tables.';\n",
              "        element.innerHTML = '';\n",
              "        dataTable['output_type'] = 'display_data';\n",
              "        await google.colab.output.renderOutput(dataTable, element);\n",
              "        const docLink = document.createElement('div');\n",
              "        docLink.innerHTML = docLinkHtml;\n",
              "        element.appendChild(docLink);\n",
              "      }\n",
              "    </script>\n",
              "  </div>\n",
              "\n",
              "\n",
              "<div id=\"df-e99c9657-5d26-4a1a-9650-6149ad70af4a\">\n",
              "  <button class=\"colab-df-quickchart\" onclick=\"quickchart('df-e99c9657-5d26-4a1a-9650-6149ad70af4a')\"\n",
              "            title=\"Suggest charts\"\n",
              "            style=\"display:none;\">\n",
              "\n",
              "<svg xmlns=\"http://www.w3.org/2000/svg\" height=\"24px\"viewBox=\"0 0 24 24\"\n",
              "     width=\"24px\">\n",
              "    <g>\n",
              "        <path d=\"M19 3H5c-1.1 0-2 .9-2 2v14c0 1.1.9 2 2 2h14c1.1 0 2-.9 2-2V5c0-1.1-.9-2-2-2zM9 17H7v-7h2v7zm4 0h-2V7h2v10zm4 0h-2v-4h2v4z\"/>\n",
              "    </g>\n",
              "</svg>\n",
              "  </button>\n",
              "\n",
              "<style>\n",
              "  .colab-df-quickchart {\n",
              "      --bg-color: #E8F0FE;\n",
              "      --fill-color: #1967D2;\n",
              "      --hover-bg-color: #E2EBFA;\n",
              "      --hover-fill-color: #174EA6;\n",
              "      --disabled-fill-color: #AAA;\n",
              "      --disabled-bg-color: #DDD;\n",
              "  }\n",
              "\n",
              "  [theme=dark] .colab-df-quickchart {\n",
              "      --bg-color: #3B4455;\n",
              "      --fill-color: #D2E3FC;\n",
              "      --hover-bg-color: #434B5C;\n",
              "      --hover-fill-color: #FFFFFF;\n",
              "      --disabled-bg-color: #3B4455;\n",
              "      --disabled-fill-color: #666;\n",
              "  }\n",
              "\n",
              "  .colab-df-quickchart {\n",
              "    background-color: var(--bg-color);\n",
              "    border: none;\n",
              "    border-radius: 50%;\n",
              "    cursor: pointer;\n",
              "    display: none;\n",
              "    fill: var(--fill-color);\n",
              "    height: 32px;\n",
              "    padding: 0;\n",
              "    width: 32px;\n",
              "  }\n",
              "\n",
              "  .colab-df-quickchart:hover {\n",
              "    background-color: var(--hover-bg-color);\n",
              "    box-shadow: 0 1px 2px rgba(60, 64, 67, 0.3), 0 1px 3px 1px rgba(60, 64, 67, 0.15);\n",
              "    fill: var(--button-hover-fill-color);\n",
              "  }\n",
              "\n",
              "  .colab-df-quickchart-complete:disabled,\n",
              "  .colab-df-quickchart-complete:disabled:hover {\n",
              "    background-color: var(--disabled-bg-color);\n",
              "    fill: var(--disabled-fill-color);\n",
              "    box-shadow: none;\n",
              "  }\n",
              "\n",
              "  .colab-df-spinner {\n",
              "    border: 2px solid var(--fill-color);\n",
              "    border-color: transparent;\n",
              "    border-bottom-color: var(--fill-color);\n",
              "    animation:\n",
              "      spin 1s steps(1) infinite;\n",
              "  }\n",
              "\n",
              "  @keyframes spin {\n",
              "    0% {\n",
              "      border-color: transparent;\n",
              "      border-bottom-color: var(--fill-color);\n",
              "      border-left-color: var(--fill-color);\n",
              "    }\n",
              "    20% {\n",
              "      border-color: transparent;\n",
              "      border-left-color: var(--fill-color);\n",
              "      border-top-color: var(--fill-color);\n",
              "    }\n",
              "    30% {\n",
              "      border-color: transparent;\n",
              "      border-left-color: var(--fill-color);\n",
              "      border-top-color: var(--fill-color);\n",
              "      border-right-color: var(--fill-color);\n",
              "    }\n",
              "    40% {\n",
              "      border-color: transparent;\n",
              "      border-right-color: var(--fill-color);\n",
              "      border-top-color: var(--fill-color);\n",
              "    }\n",
              "    60% {\n",
              "      border-color: transparent;\n",
              "      border-right-color: var(--fill-color);\n",
              "    }\n",
              "    80% {\n",
              "      border-color: transparent;\n",
              "      border-right-color: var(--fill-color);\n",
              "      border-bottom-color: var(--fill-color);\n",
              "    }\n",
              "    90% {\n",
              "      border-color: transparent;\n",
              "      border-bottom-color: var(--fill-color);\n",
              "    }\n",
              "  }\n",
              "</style>\n",
              "\n",
              "  <script>\n",
              "    async function quickchart(key) {\n",
              "      const quickchartButtonEl =\n",
              "        document.querySelector('#' + key + ' button');\n",
              "      quickchartButtonEl.disabled = true;  // To prevent multiple clicks.\n",
              "      quickchartButtonEl.classList.add('colab-df-spinner');\n",
              "      try {\n",
              "        const charts = await google.colab.kernel.invokeFunction(\n",
              "            'suggestCharts', [key], {});\n",
              "      } catch (error) {\n",
              "        console.error('Error during call to suggestCharts:', error);\n",
              "      }\n",
              "      quickchartButtonEl.classList.remove('colab-df-spinner');\n",
              "      quickchartButtonEl.classList.add('colab-df-quickchart-complete');\n",
              "    }\n",
              "    (() => {\n",
              "      let quickchartButtonEl =\n",
              "        document.querySelector('#df-e99c9657-5d26-4a1a-9650-6149ad70af4a button');\n",
              "      quickchartButtonEl.style.display =\n",
              "        google.colab.kernel.accessAllowed ? 'block' : 'none';\n",
              "    })();\n",
              "  </script>\n",
              "</div>\n",
              "\n",
              "    </div>\n",
              "  </div>\n"
            ],
            "application/vnd.google.colaboratory.intrinsic+json": {
              "type": "dataframe",
              "variable_name": "df",
              "summary": "{\n  \"name\": \"df\",\n  \"rows\": 18122,\n  \"fields\": [\n    {\n      \"column\": \"label\",\n      \"properties\": {\n        \"dtype\": \"category\",\n        \"num_unique_values\": 184,\n        \"samples\": [\n          \" existing 500 and 1000 rupee notes would no longer be accepted as legal tender. The tax cattle would have until December 30th to trade in their 500 and 1000 rupee notes at post offices and banks. \",\n          \" it turns out. \",\n          \" 8 =8G53> =5 ?@54?@8=8<0NB 4;O ?5@55740 70 3@0=8FC. \"\n        ],\n        \"semantic_type\": \"\",\n        \"description\": \"\"\n      }\n    }\n  ]\n}"
            }
          },
          "metadata": {},
          "execution_count": 14
        }
      ]
    },
    {
      "cell_type": "code",
      "source": [
        "\n",
        "# Install the package\n",
        "!pip install textblob\n",
        "\n",
        "# Example usage\n",
        "from textblob import TextBlob\n",
        "\n",
        "text = \"I love programming with Python!\"\n",
        "blob = TextBlob(text)\n"
      ],
      "metadata": {
        "colab": {
          "base_uri": "https://localhost:8080/"
        },
        "id": "H6VijTZJD2F0",
        "outputId": "22bce780-70f2-46a6-9d7e-895bc08552e3"
      },
      "execution_count": 32,
      "outputs": [
        {
          "output_type": "stream",
          "name": "stdout",
          "text": [
            "Requirement already satisfied: textblob in /usr/local/lib/python3.11/dist-packages (0.19.0)\n",
            "Requirement already satisfied: nltk>=3.9 in /usr/local/lib/python3.11/dist-packages (from textblob) (3.9.1)\n",
            "Requirement already satisfied: click in /usr/local/lib/python3.11/dist-packages (from nltk>=3.9->textblob) (8.1.8)\n",
            "Requirement already satisfied: joblib in /usr/local/lib/python3.11/dist-packages (from nltk>=3.9->textblob) (1.4.2)\n",
            "Requirement already satisfied: regex>=2021.8.3 in /usr/local/lib/python3.11/dist-packages (from nltk>=3.9->textblob) (2024.11.6)\n",
            "Requirement already satisfied: tqdm in /usr/local/lib/python3.11/dist-packages (from nltk>=3.9->textblob) (4.67.1)\n"
          ]
        }
      ]
    },
    {
      "cell_type": "code",
      "source": [
        "import pandas as pd\n",
        "\n",
        "# Try using a different delimiter, such as a tab or semicolon\n",
        "df = pd.read_csv(\"fake_news.csv\", encoding='ISO-8859-1', sep=',', on_bad_lines='skip')\n",
        "\n",
        "# Print the columns of the DataFrame to confirm if 'content' exists\n",
        "print(df.columns)\n",
        "\n",
        "# Check if 'content' is in the columns\n",
        "if 'content' in df.columns:\n",
        "    df['content'] = df['content'].apply(lambda x: \"\".join(x.lower() for x in x.split()))\n",
        "else:\n",
        "    print(\"Column 'content' not found in the DataFrame.\")"
      ],
      "metadata": {
        "colab": {
          "base_uri": "https://localhost:8080/"
        },
        "id": "23cqc-CufXdo",
        "outputId": "cc25b2d0-69c1-44d4-9e02-15d25eb1ad56"
      },
      "execution_count": 33,
      "outputs": [
        {
          "output_type": "stream",
          "name": "stdout",
          "text": [
            "Index(['id', 'title', 'author', 'text', 'label'], dtype='object')\n",
            "Column 'content' not found in the DataFrame.\n"
          ]
        }
      ]
    },
    {
      "cell_type": "code",
      "source": [
        "df=df.drop(['title','author','text'],axis=1)"
      ],
      "metadata": {
        "id": "ZUW5ZPBSfLi8"
      },
      "execution_count": 34,
      "outputs": []
    },
    {
      "cell_type": "code",
      "source": [
        "print(df.columns)  # To check if 'Content' is among the columns\n",
        "print(df.head())   # To see a preview of the DataFrame\n"
      ],
      "metadata": {
        "colab": {
          "base_uri": "https://localhost:8080/"
        },
        "id": "cqvCdmOof3my",
        "outputId": "9d85912f-6f0b-4cad-ebb5-9ba94b44fe74"
      },
      "execution_count": 35,
      "outputs": [
        {
          "output_type": "stream",
          "name": "stdout",
          "text": [
            "Index(['id', 'label'], dtype='object')\n",
            "  id label\n",
            "0  0     1\n",
            "1  1     0\n",
            "2  2     1\n",
            "3  3     1\n",
            "4  4     1\n"
          ]
        }
      ]
    },
    {
      "cell_type": "code",
      "source": [
        "if 'Content' in df.columns:\n",
        "    value = df['Content']\n",
        "else:\n",
        "    print(\"Key 'Content' not found in DataFrame\")\n",
        "\n"
      ],
      "metadata": {
        "colab": {
          "base_uri": "https://localhost:8080/"
        },
        "id": "kgQJMw2nf8J_",
        "outputId": "6f069ff4-a479-428c-a328-2221346d8b92"
      },
      "execution_count": 36,
      "outputs": [
        {
          "output_type": "stream",
          "name": "stdout",
          "text": [
            "Key 'Content' not found in DataFrame\n"
          ]
        }
      ]
    },
    {
      "cell_type": "code",
      "source": [
        "import pandas as pd\n",
        "\n",
        "# Sample DataFrame\n",
        "df = pd.DataFrame({\n",
        "    'content': ['Hello World!', 'Pandas is great', None, 'Python Programming']\n",
        "})\n",
        "\n",
        "# Corrected code\n",
        "df['content'] = df['content'].apply(lambda x: \"\".join(x.lower() for x in x.split()) if pd.notnull(x) else \"\")\n",
        "\n",
        "print(df)\n"
      ],
      "metadata": {
        "colab": {
          "base_uri": "https://localhost:8080/"
        },
        "id": "CdClSPy7gtPI",
        "outputId": "6bbbc68b-5e07-4d5b-9e37-955ccbc6d7df"
      },
      "execution_count": 38,
      "outputs": [
        {
          "output_type": "stream",
          "name": "stdout",
          "text": [
            "             content\n",
            "0        helloworld!\n",
            "1      pandasisgreat\n",
            "2                   \n",
            "3  pythonprogramming\n"
          ]
        }
      ]
    },
    {
      "cell_type": "code",
      "source": [
        "df['content'] = df['content'].apply(lambda x: \"\".join(x.lower() for x in x.split()))"
      ],
      "metadata": {
        "id": "WccgMRYaA96D"
      },
      "execution_count": 39,
      "outputs": []
    },
    {
      "cell_type": "code",
      "source": [],
      "metadata": {
        "id": "UEy39PZ_DrNk"
      },
      "execution_count": null,
      "outputs": []
    },
    {
      "cell_type": "code",
      "source": [
        "#REmoving punctuations\n",
        "df['content']= df['content'].str.replace('[^\\w\\s]','')"
      ],
      "metadata": {
        "id": "3K7OHvG-BSKP"
      },
      "execution_count": 40,
      "outputs": []
    },
    {
      "cell_type": "code",
      "source": [
        "import nltk\n",
        "nltk.download('stopwords')"
      ],
      "metadata": {
        "id": "TUc55p5aDF45",
        "colab": {
          "base_uri": "https://localhost:8080/"
        },
        "outputId": "1dcc1ed6-5dab-46dd-ba63-ac868c7f66ca"
      },
      "execution_count": 41,
      "outputs": [
        {
          "output_type": "stream",
          "name": "stderr",
          "text": [
            "[nltk_data] Downloading package stopwords to /root/nltk_data...\n",
            "[nltk_data]   Unzipping corpora/stopwords.zip.\n"
          ]
        },
        {
          "output_type": "execute_result",
          "data": {
            "text/plain": [
              "True"
            ]
          },
          "metadata": {},
          "execution_count": 41
        }
      ]
    },
    {
      "cell_type": "code",
      "source": [
        "from nltk.corpus import stopwords\n",
        "stop = stopwords.words('english')\n",
        "df['content']= df['content'].apply(lambda x: \" \".join(x for x in x.split() if x not in stop))"
      ],
      "metadata": {
        "id": "_9liyKVRg1VS"
      },
      "execution_count": 42,
      "outputs": []
    },
    {
      "cell_type": "code",
      "source": [
        "import pandas as pd\n",
        "\n",
        "# Sample DataFrame for demonstration\n",
        "df = pd.DataFrame({\n",
        "    'author': ['Alice', 'Bob', 'Charlie'],\n",
        "    'content': ['Post 1', 'Post 2', 'Post 3']\n",
        "})\n",
        "\n",
        "# Check if 'author' column exists\n",
        "if 'author' in df.columns:\n",
        "    print(\"Column 'author' exists in the DataFrame\")\n",
        "else:\n",
        "    print(\"Column 'author' does not exist in the DataFrame\")\n"
      ],
      "metadata": {
        "colab": {
          "base_uri": "https://localhost:8080/"
        },
        "id": "w0Y6hzrZj2U3",
        "outputId": "4b0f9fd8-c7de-4a43-d0b1-49310161a5fc"
      },
      "execution_count": 57,
      "outputs": [
        {
          "output_type": "stream",
          "name": "stdout",
          "text": [
            "Column 'author' exists in the DataFrame\n"
          ]
        }
      ]
    },
    {
      "cell_type": "code",
      "source": [
        "# Assuming you want to recreate 'content' from the original CSV\n",
        "import pandas as pd\n",
        "\n",
        "# Re-read the original CSV to get the 'author', 'title', and 'text' columns\n",
        "df_original = pd.read_csv(\"fake_news.csv\", encoding='ISO-8859-1', sep=',', on_bad_lines='skip')\n"
      ],
      "metadata": {
        "id": "YU2f710Mize8"
      },
      "execution_count": 52,
      "outputs": []
    },
    {
      "cell_type": "code",
      "source": [
        "if 'author' in df.columns:\n",
        "    df['author'] = df['author'].apply(lambda x: x.lower() if pd.notnull(x) else \"\")\n",
        "else:\n",
        "    print(\"Column 'author' not found in DataFrame\")\n"
      ],
      "metadata": {
        "colab": {
          "base_uri": "https://localhost:8080/"
        },
        "id": "5aNvUTFLjm2z",
        "outputId": "859db678-39c9-4824-a129-22db53f568f4"
      },
      "execution_count": 55,
      "outputs": [
        {
          "output_type": "stream",
          "name": "stdout",
          "text": [
            "Column 'author' not found in DataFrame\n"
          ]
        }
      ]
    },
    {
      "cell_type": "code",
      "source": [
        "if 'author' in df.columns:\n",
        "    df['author'] = df['author'].fillna('Unknown')  # Replace NaN with 'Unknown'\n",
        "    print(df['author'])\n",
        "else:\n",
        "    print(\"Column 'author' not found in the DataFrame\")\n"
      ],
      "metadata": {
        "colab": {
          "base_uri": "https://localhost:8080/"
        },
        "id": "91HxBgf1jzCo",
        "outputId": "35e1bf4e-10c7-4a57-9f01-e3334c4b1c51"
      },
      "execution_count": 56,
      "outputs": [
        {
          "output_type": "stream",
          "name": "stdout",
          "text": [
            "Column 'author' not found in the DataFrame\n"
          ]
        }
      ]
    },
    {
      "cell_type": "code",
      "source": [
        "# Assuming you want to recreate 'content' from the original CSV\n",
        "import pandas as pd\n",
        "\n",
        "# Re-read the original CSV to get the 'author', 'title', and 'text' columns\n",
        "df = pd.read_csv(\"fake_news.csv\", encoding='ISO-8859-1', sep=',', on_bad_lines='skip')\n",
        "\n",
        "# Now you can access 'author', 'title', and 'text' columns\n",
        "df['content'] = df['author'].fillna('') + '' + df['title'].fillna('') + '' + df['text'].fillna('')"
      ],
      "metadata": {
        "id": "A7RzbOU-kOgz"
      },
      "execution_count": 62,
      "outputs": []
    },
    {
      "cell_type": "code",
      "source": [
        "!pip install textblob\n",
        "import nltk\n",
        "nltk.download('wordnet')\n",
        "from nltk.stem import WordNetLemmatizer\n",
        "from textblob import Word\n",
        "df['content']= df['content'].apply(lambda x: \" \".join([Word(word).lemmatize() for word in x.split()]))\n",
        "df['content'].head()"
      ],
      "metadata": {
        "colab": {
          "base_uri": "https://localhost:8080/",
          "height": 379
        },
        "id": "xGB38l7Mi_BC",
        "outputId": "be4c32e6-6238-4a95-c181-50dda2473d16"
      },
      "execution_count": 63,
      "outputs": [
        {
          "output_type": "stream",
          "name": "stdout",
          "text": [
            "Requirement already satisfied: textblob in /usr/local/lib/python3.11/dist-packages (0.19.0)\n",
            "Requirement already satisfied: nltk>=3.9 in /usr/local/lib/python3.11/dist-packages (from textblob) (3.9.1)\n",
            "Requirement already satisfied: click in /usr/local/lib/python3.11/dist-packages (from nltk>=3.9->textblob) (8.1.8)\n",
            "Requirement already satisfied: joblib in /usr/local/lib/python3.11/dist-packages (from nltk>=3.9->textblob) (1.4.2)\n",
            "Requirement already satisfied: regex>=2021.8.3 in /usr/local/lib/python3.11/dist-packages (from nltk>=3.9->textblob) (2024.11.6)\n",
            "Requirement already satisfied: tqdm in /usr/local/lib/python3.11/dist-packages (from nltk>=3.9->textblob) (4.67.1)\n"
          ]
        },
        {
          "output_type": "stream",
          "name": "stderr",
          "text": [
            "[nltk_data] Downloading package wordnet to /root/nltk_data...\n",
            "[nltk_data]   Package wordnet is already up-to-date!\n"
          ]
        },
        {
          "output_type": "execute_result",
          "data": {
            "text/plain": [
              "0    Darrell LucusHouse Dem Aide: We Didn\u0019t Even Se...\n",
              "1    Daniel J. FlynnFLYNN: Hillary Clinton, Big Wom...\n",
              "2    Consortiumnews.comWhy the Truth Might Get You ...\n",
              "3    Jessica Purkiss15 Civilians Killed In Single U...\n",
              "4    Howard PortnoyIranian woman jailed for fiction...\n",
              "Name: content, dtype: object"
            ],
            "text/html": [
              "<div>\n",
              "<style scoped>\n",
              "    .dataframe tbody tr th:only-of-type {\n",
              "        vertical-align: middle;\n",
              "    }\n",
              "\n",
              "    .dataframe tbody tr th {\n",
              "        vertical-align: top;\n",
              "    }\n",
              "\n",
              "    .dataframe thead th {\n",
              "        text-align: right;\n",
              "    }\n",
              "</style>\n",
              "<table border=\"1\" class=\"dataframe\">\n",
              "  <thead>\n",
              "    <tr style=\"text-align: right;\">\n",
              "      <th></th>\n",
              "      <th>content</th>\n",
              "    </tr>\n",
              "  </thead>\n",
              "  <tbody>\n",
              "    <tr>\n",
              "      <th>0</th>\n",
              "      <td>Darrell LucusHouse Dem Aide: We Didn\u0019t Even Se...</td>\n",
              "    </tr>\n",
              "    <tr>\n",
              "      <th>1</th>\n",
              "      <td>Daniel J. FlynnFLYNN: Hillary Clinton, Big Wom...</td>\n",
              "    </tr>\n",
              "    <tr>\n",
              "      <th>2</th>\n",
              "      <td>Consortiumnews.comWhy the Truth Might Get You ...</td>\n",
              "    </tr>\n",
              "    <tr>\n",
              "      <th>3</th>\n",
              "      <td>Jessica Purkiss15 Civilians Killed In Single U...</td>\n",
              "    </tr>\n",
              "    <tr>\n",
              "      <th>4</th>\n",
              "      <td>Howard PortnoyIranian woman jailed for fiction...</td>\n",
              "    </tr>\n",
              "  </tbody>\n",
              "</table>\n",
              "</div><br><label><b>dtype:</b> object</label>"
            ]
          },
          "metadata": {},
          "execution_count": 63
        }
      ]
    },
    {
      "cell_type": "code",
      "source": [
        "X = df[['content']]\n",
        "y = df['label']"
      ],
      "metadata": {
        "id": "vkj7310ViFdu"
      },
      "execution_count": 64,
      "outputs": []
    },
    {
      "cell_type": "code",
      "source": [
        "df = df.dropna()\n",
        "df = df.fillna(\"\")"
      ],
      "metadata": {
        "id": "kfDTBpTDl5Vc"
      },
      "execution_count": 74,
      "outputs": []
    },
    {
      "cell_type": "code",
      "source": [
        "df_filled = df.fillna(0)\n",
        "df_dropped = df.dropna()"
      ],
      "metadata": {
        "id": "lhJ3B1TNl603"
      },
      "execution_count": 75,
      "outputs": []
    },
    {
      "cell_type": "code",
      "source": [
        "from sklearn.model_selection import train_test_split\n",
        "\n",
        "# Check for classes with only one sample\n",
        "unique_classes, class_counts = np.unique(y, return_counts=True)\n",
        "classes_with_one_sample = unique_classes[class_counts == 1]\n",
        "\n",
        "# If there are classes with only one sample, remove them or handle them differently\n",
        "if len(classes_with_one_sample) > 0:\n",
        "    print(\"Classes with only one sample:\", classes_with_one_sample)\n",
        "    # Option 1: Remove rows corresponding to these classes\n",
        "    df = df[~df['label'].isin(classes_with_one_sample)]\n",
        "    X = df[['content']]\n",
        "    y = df['label']\n",
        "    # Option 2: Handle them in a way specific to your dataset and task\n",
        "    # (e.g., oversampling, data augmentation, etc.)\n",
        "    # ...\n",
        "\n",
        "# Now you can proceed with train_test_split\n",
        "X_train, X_test, y_train, y_test = train_test_split(X, y, test_size=0.3, random_state=45, stratify=y)\n",
        "\n",
        "# Checking the shapes of the resulting datasets\n",
        "print(\"X_train shape:\", X_train.shape)\n",
        "print(\"X_test shape:\", X_test.shape)\n",
        "print(\"y_train shape:\", y_train.shape)\n",
        "print(\"y_test shape:\", y_test.shape)"
      ],
      "metadata": {
        "colab": {
          "base_uri": "https://localhost:8080/"
        },
        "id": "_vVZIf3nmRHY",
        "outputId": "1f9f40e9-1e00-4339-97de-d9045bbc059b"
      },
      "execution_count": 78,
      "outputs": [
        {
          "output_type": "stream",
          "name": "stdout",
          "text": [
            "Classes with only one sample: [' \\x11 \\x18\\x1a! 2 >G5@54=>9 @07 ?@>45<>=AB@8@>20;8 A2>N ?>@078B5;L=CN A?>A>1=>ABL ?@52@0B8BL A;>6=K9 ?5@8>4 2 C4>1=K9 (A B>G:8 7@5=8O AB@0B538G5A:8E ?5@A?5:B82) <><5=B 4;O C:@5?;5=8O A2O759 <564C AB@0=0<8-G;5=0<8 3@C??K.'\n",
            " ' \\x12;048<8@ \\x12;048<8@>28G.' ' \\x14 A:070; \"@0<?. '\n",
            " ' \\x14 A>60;55B \\x1fCB8=. \\x1e :0:8E A8;0E 845B @5GL? '\n",
            " ' \\x1f5B@>< 8 4@C38<8.'\n",
            " ' $49 billion); total spending for the false war-on-drugs at about $75 billion. '\n",
            " ' - 3>2>@8BAO 2 A>>1I5=88 !# !\\x1a ?>  5A?C1;8:5 \\x1c>@4>28O. '\n",
            " ' 2 :0:CN AB>@>=C ;CGH5 A?0BL 3>;>2>9. \\x15ABL :0:85-B> @5:><5=40F88? '\n",
            " ' 2 B>< G8A;5 A 55  538>=0;L=K< F5=B@>< ?> ?@525=B82=>9 48?;><0B88 4;O &5=B@0;L=>9 \\x10788.'\n",
            " \" 2016 Wasn't it just last week that he said a president can't whine and blame others? #BiggestWhinerAndBlamerEver https://t.co/ZIQIel4aeP \"\n",
            " ' 2=>AOB @50;L-=K9 2:;04 2 8E >ACI5AB2;5=85.'\n",
            " ' 2E>4OI59 2 ?5@5G5=L <564C=0@>4=KE B5@@>@8AB8G5A:8E >@30=870F89.'\n",
            " ' 2K720; 1>;LH>9 >1I5AB25==K9 @57>=0=A. #G0AB=8:8 3>=:8 ?>;CG8;8 ?> 15 ACB>: 04<8=8AB@0B82=>3> 0@5AB0. '\n",
            " ' 40-40! \\x12>B @51OB0< 8 ?@8E>48BAO B5?5@L A0<>AB>OB5;L=> 4>18@0BLAO 4> H:>;K 2 A>A54=59 45@52=5 \\x130;80:15@>2>. '\n",
            " ' 4;O B>3> GB>1K ?@>45<>=AB@8@>20BL 3;>10;L=CN A>;840@=>ABL A> AB@0=0<8 .30.'\n",
            " ' 4>;6=K =5?>A@54AB25==>5 CG0AB85 2 2K@01>B:5 @5H5=89 ?@8=8<0BL :>=D;8:BCNI85 AB>@>=K. \\x1f5@2>5.'\n",
            " ' 4CE>2=K< ;845@>< \\x11@0BL52-<CAC;L<0= 8 4CE>2=K< =0AB02=8:>< \\x10;L-\\x146078@K.'\n",
            " ' 5A;8 1K 70 :C;8A0<8 =5 2KOA=8;>AL =5GB> A>2A5< =5>6840==>5. '\n",
            " ' 5A;8 8< B5?5@L 4>?>;=8B5;L=> >=;09= :>=AC;LB8@>20BL? \\x1345 8< 27OBL 5I5 2@5<O? '\n",
            " ' 70 2@5<O :>=D;8:B0 ?>381;8 1>;55 220 BKAOG G5;>25:. '\n",
            " ' 8 2 >A>15==>AB8 2 &5=B@0;L=>0780BA:>< @538>=5.'\n",
            " ' 8 : ?><>I8 4CE>25=AB20 =5 >1@0B8;AO.'\n",
            " ' 8 =0 >B:@KBKE ?>;:0E. \\x1a0: MB> 2;8O5B =0 687=L G5;>25:0? -B> ?@>AB> =5:@0A82> 287C0;L=> 8;8 MB> 5I5 A?>A>1=> 2K7K20BL :0:85-B> =530B82=K5 A>1KB8O? '\n",
            " ' 8 =8G53> =5 ?@54?@8=8<0NB 4;O ?5@55740 70 3@0=8FC. '\n",
            " ' 8 ?@54A:070; =>2CN AE20B:C [ 1 ].'\n",
            " ' :0: \\x145=L =0@>4=>3> 548=AB20?\"\" 1>;LH8=AB2> (69%) >B25B8;> \\x14 =C65=. '\n",
            " ' :0: ;N48 2>A?@8=8<0NB A2>Q ?>;>65=85.'\n",
            " ' :0: >= 70=OB. \\x1cK B0:65 2KA>:> F5=8< 53> 3>B>2=>ABL >B25G0BL =0 =0H8 2>?@>AK.'\n",
            " ' :>340 >= 2=>2L 2>AAB0=>28B >B=>H5=8O 2KA>:>3> C@>2=O A \\x1a@5<;Q<?'\n",
            " ' :>=B@>;N 8 @53C;8@>20=8N 8A?>;L7>20=8O >1J5:B>2 682>B=>3> <8@0 04<8=8AB@0F88 \\x1f@8<>@A:>3> :@0O. \\x10;5:A59 !C@>2K9. '\n",
            " ' :>B>@>3> 2K15@5B 0<5@8:0=A:89 =0@>4 8 :>B>@K9 70E>G5B A>B@C4=8G0BL A  >AA859. '\n",
            " ' :>B>@>3> A53>4=O =07K20NB :>=A?8@>;>3>< 70 53> 2KABC?;5=8O ?@>B82 ?@8ACBAB28O 2 D545@0;L=KE >@30=0E \\x11@0BL52-<CAC;L<0=.'\n",
            " ' :>B>@>5 2 ?5@A?5:B825 <>65B ?@52@0B8BLAO 8 2 >48= 87 F5=B@>2 D>@<8@>20=8O 2 \\x152@0788 H8@>:>3> 8=B53@0F8>==>3> :>=BC@0. \\x14;O 2>?;>I5=8O MB>9 8458 C65 =0G0BK ?5@53>2>@K 2 D>@<0B5 «?OBL ?;NA >48=» ?> A>3;0H5=8N > B>@3>2>-M:>=><8G5A:>< A>B@C4=8G5AB25 <564C 2A5<8 CG0AB=8:0<8 MB>3> ?@>F5AA0.'\n",
            " ' :>B>@K5 45AOB8;5B8O<8 =0E>4OBAO C 2;0AB8. '\n",
            " ' :>B>@K5 <K 8<55< A53>4=O 2 !8@88. '\n",
            " ' :>B>@K5 >=8 ?@54AB028;8 <8@C ?0@C ;5B =0704 2> 2@5<O H5AB>3> A0<<8B0 2 $>@B0;575 (\\x11@078;8O) [ 1 ].'\n",
            " ' :>B>@K5 O A45;0;0.'\n",
            " ' :>B>@K9 45;0NB 87 MB>3> ?@>:;8=B>=>2A:85 !\\x1c\\x18.' ' :B> 28=>20B! '\n",
            " ' :C?8@>20=8N 8AE>4OI59 c B5@@8B>@88 MB>9 AB@0=K =0@:>C3@>7K.'\n",
            " ' <>6=> ?5@570?8AK20BL =5>3@0=8G5==>5 G8A;> @07. '\n",
            " ' =5 ?@>?8A0=> 70:>=>40B5;L=>. ' ' =5 A>2A5< B0:.'\n",
            " ' =5 A>>B25BAB2C5B >A=>2=K< ?>4E>40< \\x1c>A:2K. '\n",
            " ' >1@0I0NBAO : 8740B5;O< \\x14 8 <83>< ?>;CG0NB =0 @C:8 4@03>F5==CN :=83C A A>1AB25==>9 D0<8;859 =0 >1;>6:5. \\x18 BCB C =8E 2>7=8:05B 2>?@>A: GB> 45;0BL 40;LH5? '\n",
            " ' >?@0240= ?> 2A5< M?87>40<. !C4 B0:65 ?>AB0=>28; 87JOBL M;8B=K9 2=54>@>6=8: 2 ?>;L7C 3>AC40@AB20. '\n",
            " ' >?OBL =0@CH8;8 #AB02 \\x1e@30=870F88 \\x1e1J548=Q==KE \\x1d0F89.'\n",
            " ' ?>4>1=>3> =5;L7O >6840BL 8 >B \\x10;10=88. \\x155 2=5H=OO ?>;8B8:0 ?>;=>ABLN A>;840@878@C5BAO A ?>;8B8:>9 \\x15!. '\n",
            " ' ?>60;C9AB0.' ' ?>94CB =0 C@0! '\n",
            " ' ?@52@0B82H8< ?>?0 2 «:C?F0 \\x1aC7L<C-\\x1eAB>;>?0». '\n",
            " ' ?@81;860NI55AO : =0< A> AB>@>=K !>;=F0». '\n",
            " ' ?@8G5< ?>:C?0B5;5< MB8E :@548B>2 2KABC?8B !15@10=:. '\n",
            " ' ?@>AB> 70<5G0B5;L=K9 ?@8<5@. \\x11><10@48@>2:8 \\x115;3@040 \\x13 2>B MB> 8 5ABL 8=B5@25=F8O 2 >1E>4 =>@< 8 ?@028; <564C=0@>4=>3> ?@020.  0725 !>25B \\x1157>?0A=>AB8 \\x1e\\x1e\\x1d ?@8=8<0; @5H5=85 > 2>5==>9 8=B5@25=F88 2 .3>A;0288? \\x1d5B. !>548=Q==K5 (B0BK A45;0;8 MB> 2 >4=>AB>@>==5< ?>@O4:5.'\n",
            " ' @02=0 36 BKA. 3@825=. '\n",
            " ' @50;870F8O MB>3> =>2>3> ?0@B=Q@AB20 2 F5;OE @0728B8O \\x10D@8:8 :@09=5 206=0 \\x13 MB> >?OBL 1K;0 F8B0B0.'\n",
            " ' @5H5=8N A>F80;L=>-M:>=><8G5A:8E 7040G. '\n",
            " ' @clintoneail.com site. Hereâ¬\"s is the text from that email exchange:'\n",
            " ' A:070; >=. '\n",
            " ' A;KH=K9 B>;L:> 5<C. \\x18 O ?>?KB0;AO CB>G=8BL =5:>B>@K5 0A?5:BK MB>3> O2;5=8O ?@8@>4K 4>?>;=8B5;L=K<8 2>?@>A0<8: '\n",
            " ' A<>B@8B B5;5287>@. \\x1a0:85 ?@54<5BK 1C4CB 1;03>?@8OB=> 2;8OBL =0 ;N459 2 3>AB8=>9? '\n",
            " ' A>>1I8; \\x130;CH:0. '\n",
            " ' A>>1I8; =0G0;L=8: #?@02;5=8O :C;LBC@K \\x1c8=>1>@>=K  >AA88 \\x10=B>= \\x13C10=:>2. '\n",
            " ' A>CG0AB2C5B 2 ?@5ABC?;5=88. !> 2A5<8 4>;65=AB2CNI8<8 2KB5:0BL >BAN40& '\n",
            " ' AG8B05B ?@57845=B  >AA88. ' ' AZ. Sheriff investigators.'\n",
            " ' Amnesty estimated.' ' B0: 8 1C4CB =>@<0;L=> @01>B0BL? ' ' B> >=0: '\n",
            " ' BPR and other Government reports \" Full Options analysis \" An in depth summary of the prior Trading week and expectations of the upcoming week. '\n",
            " ' C25;8G5=85 MB8E :>=B0:B>2 48:BCNBAO 687=LN. \\x1f>G5<C?'\n",
            " ' C25@5= ?@57845=B  >AA88. '\n",
            " ' CAB>9G82>ABL M:>=><8G5A:>3> @>AB0? \\x1a0: ?>2KA8BL 1;03>A>AB>O=85 ;N459?'\n",
            " ' GB> 1>;LH0O G0ABL :@8B8:8 1K;0 =0?@02;5=0 =0 !(\\x10.'\n",
            " ' GB> 687=L :0@48=0;L=K< >1@07>< ?><5=O5BAO. \\x1a0: 1C4B> 2A5 A=>20 ?>25@=C;>AL : 20< ;8F>< 8 =0G8=05B ?><>30BL. -B> >G5=L 206=>. '\n",
            " ' GB> :><?0=8O <8=C5B ?@><56CB>G=CN <>45;L 7s 8 2K?CAB8B iPhone 8. '\n",
            " ' GB> C =0A 0:B82878@>20;8AL «4@C68==8:8». \\x1f0B@C;8@>20BL C;8FK A>18@0NBAO :>==K5 :070:8 \\x14 BCB C6 «:;>C=0<» 1C45B =5 4> HCB>:! '\n",
            " ' GB> MB> 206=>.'\n",
            " ' GB>1K 2K9B8 8<5==> =0 B0:>9 @568< @01>BK 4@C3 A 4@C3><. \\x18 <K 3>B>2K @01>B0BL 2 B0:>< 65 @568<5 A> 2A5<8.'\n",
            " ' GB>1K >= 0:B82=> 459AB2>20; 2 =0?@02;5=88 4>AB865=8O A2>8E D8=0=A>2KE 7040G. '\n",
            " ' GB>1K MB> 1K;0 4>@>30 A 42CAB>@>==8< 42865=85<.'\n",
            " ' GB>1K MB> 1K;> :><D>@B=> 4;O ;N459. '\n",
            " ' I respect water. That\\x19s something California never learned. Matibob '\n",
            " ' John Podesta.' ' L.A. & San Diego \\x13 Buh-Bye! The Conservanator '\n",
            " ' MB> 2AQ @02=> 8A?>;L7C5BAO 4;O 4>AB865=8O A2>8E ?>;8B8G5A:8E F5;59.'\n",
            " ' Monice Lewinsky; '\n",
            " ' Paul Samuelson said the Federal Reserve is an \\x1comnipotent counterfeiter\\x1d and the Federal Reserve in 1977 and 1979 said their system \\x1cworks only with credit.\\x1d They also said: \\x1cThe Federal Reserve in cooperation with the federal government has the inherent power to create money. This power makes technical bankruptcy out of the question.\\x1d They should just create whatever amount of credit needed to build sufficient desalinization plants to convert sea water to drinking water without use of taxes. The facts stated here make continuous wars possible. Let\\x19s stop the destructive wars and construct all of the pure water plants needed. Philip Botwinick '\n",
            " ' Russian army go away\\'!\"\" '\n",
            " ' Steven Spielberg. Read The First Holocaust online here . ' ' Tylenol. '\n",
            " ' all kinds of fraud.â¬\\x9d'\n",
            " ' all so that Alison\\x19s Ego Adventures\" Show continues. '\n",
            " ' and all they said they talked about was golf and the grandkids. '\n",
            " ' and class power struggles over multibillion-dollar budget '\n",
            " ' and eight times more likely to commit robbery. '\n",
            " ' and handed in his resignation. '\n",
            " ' and investment began well before the Great Recession. '\n",
            " ' and not od. you reap what you sow&.. user z '\n",
            " ' and other notions that prevent us from moving forwards and upward '\n",
            " ' and the fresh water pumped back into the city. I think you were confused by the word powered. Either pay closer attention or try not to be so sanctimonious. Reminds me of a joke. What do you get when you cross Albert Einstein with a streetwalker? You get a f*#king know-it-all. Piper Michael '\n",
            " ' are responsible for the birth defects. '\n",
            " ' but that changes nothing as to what you are doing. '\n",
            " ' buy up all the real estate dirt cheap then turn the spigot back on at a time of their choosing. Diabolically ingenious! DJohn1 '\n",
            " ' can be found online.' ' chap.20). ' ' como le decía esta mañana. '\n",
            " ' cucumber and other veggies. Priszilla '\n",
            " ' de musulmanes y de contaminación acústica. '\n",
            " ' decía el exdiputado socialista. '\n",
            " ' ect would be like without AC and cooling. The words hell hole comes to mind. I laugh at all the people who talk about Desalination plants. They take huge amounts of power. Where are they going to get that? Go nuculear? in Kalifornia? LOL fat chance. They would plant a useless windmill on every square foot of ground first. Don\\x19t you just love it when a good plan goes to hell. Dale Graley '\n",
            " ' el respaldo alto ergonómico y la columna de dirección ajustable que hacen al 3E tan cómodo y productivo. '\n",
            " ' etc. ALL of whom are protected by anti-discrimination laws. '\n",
            " ' etc. Ron Gilbert '\n",
            " ' every 25 seconds someone in the U.S. is arrested for the simple act of possessing drugs for their personal use. '\n",
            " ' existing 500 and 1000 rupee notes would no longer be accepted as legal tender. The tax cattle would have until December 30th to trade in their 500 and 1000 rupee notes at post offices and banks. '\n",
            " ' fairy tale and fantasy. You also probably believe Obama was born in Hawaii&HaHaHa! afchief '\n",
            " ' filmed her& She would never have found the entrance if no one already in the know had accepted to be her guide. Neither could she lift manhole covers of more than a hundred kilograms with her thin arms\\x14even the round butt she likes to display couldn\\x19t do that. The first photo displayed by the Mail. Notice how she strategically displays (some of) her butt. '\n",
            " ' food will shoot the moon. As will everything else. Scared Economist '\n",
            " ' going against the grain of his own party.'\n",
            " ' has withdrawn his endorsement of Hillary Clinton for the presidency following the renewal of the FBI investigation into Clinton and her her top aide Huma Abedin. Schoen said he fears a constitutional crisis should Clinton be elected and sworn into office while under investigation'\n",
            " ' he\\x19d \\x1cput ya\\x19ll back in chains.\\x1d ' ' if it ever did. '\n",
            " ' in London this week .'\n",
            " ' in a pink bikini. Doing so is not only a proof of bad taste and self-aggrandizing mania\\x14it is also utterly disrespectful. '\n",
            " ' invents an \\x1eheroic kidnapping\\x1c of a Nazi War Criminal by Israeli agents and describes the earthquake in Chile as a natural event. '\n",
            " ' it turns out. '\n",
            " ' its use has spread to white women and Hispanics. Columbia University\\x19s Mailman School of Public Health reported that between 2002-2005 and 2008-2011 there was a 75 percent jump in heroin usage among \\x1cHispanics and non-Hispanic whites.\\x1d '\n",
            " ' most PPI users have simple heartburn. Even babies are now given PPIs for \\x1cbaby reflux\\x1d because they spit up 71 times a day\\x14a normal occurrence that has been pathologized. '\n",
            " ' not a cause. Hillary Clinton and husband Bill are both cause and effect. '\n",
            " ' now on the rise and based on cooperation between China and Russia;'\n",
            " ' of the rain God sends to the just and the unjust is \\x18authorized\\x19 by the usurper for you collect of the rain God sends. '\n",
            " ' often burdened with crippling debt from court-imposed fines and fees.\\x1d '\n",
            " ' one or two days of freezing temps and that\\x19s about it. Southern Oregon and eastern Washington is dying on the vine with California. LAWD '\n",
            " ' or her impeachment trial should George Soros be able to steal the election for her.'\n",
            " ' provided by an instructor approved by the Illinois State Police; '\n",
            " ' pues es la única persona que puede verle y hablar con él. '\n",
            " ' related to 11 suspected coalition attacks in Syria. The group estimates that the attacks have claimed as many as 300 civilian lives. So far none of these deaths has been acknowledged by CENTCOM.'\n",
            " ' replaced with individuals who actually honor the U.S. Constitution (like Rep. Louie Gohmert).'\n",
            " ' replaced with individuals who actually honor the U.S. Constitution (like Rep. Louie Gohmert). I root for all groups working to save America and expose the criminal politicians '\n",
            " ' sagging original '\n",
            " ' secret emails show him ordering Hillary Clinton to install this mafia criminal as the leader of Albania.'\n",
            " ' seek counseling and help. MIchael in Chicago '\n",
            " ' so add your name to the measures provided by our bureaucrat workers that use the MSM to appeal to the collective that together \\x1cWe are the World\\x1d. Take the autonomous stand with us! '\n",
            " ' social service and public safety programs struggling to operate on meager funding.\\x1d '\n",
            " ' sotalol (Betapace) and timolol (Timoptic) which treat the condition have been linked to depression for many years. '\n",
            " ' stand in her place. ' ' thank you. Joel '\n",
            " ' that the world is not a giant kindergarten for Western \\x1cstrong and independent\\x1d narcissists. '\n",
            " ' the King Fire (the largest ever) almost burnt us down from the north. I think dead center is next. Rough winds and crappy seas doth follow. '\n",
            " ' the former Prime Minister of Israel (1999-2001) \\x13 pedophile being procured underage girls by Epstein. Former Israeli Minister of Defense and also Deputy Israeli Prime Minister under Binyamin Netanyahu from 2009 to 2013. '\n",
            " ' the home and in the nation. '\n",
            " ' the new e-mails contents truly are \\x1calarming.\\x1d '\n",
            " ' then I\\x19ll show you how to release it.\\x1d '\n",
            " ' then to perky_peregrine . You\\x19ll need to resolve conflicts.\\x1d '\n",
            " ' to Bout â¬Ssuddenly/magicallyâ¬\\x9d being transferred out of maximum security to the â¬Scountry club atmosphereâ¬\\x9d of the general ward of the US Federal Prison heâ¬\"s been confined to.'\n",
            " ' was officially unveiled today in #Moscow #UnityDay pic.twitter.com/UdIE1PdUvt '\n",
            " ' we may be witnessing the end to the criminalization of personal drug use. '\n",
            " ' we will dance before the creator.\\x1d This is strongly reminiscent of the Jewish '\n",
            " ' weeks after cutting through the shrubbery that was Gordon\\x19s branching system. '\n",
            " ' which God forbid he would do. No more George Dubya Bush please. Christopher Privett '\n",
            " ' which highlighted Podestaâ¬\"s concern over the â¬Spsychosis of the media.â¬\\x9d'\n",
            " ' why does it matter?\\x1d ' ' yet empty man made cave. nobody '\n",
            " '\\'D\\'* J2/\\'/ \\'D*9\\'HF AJG\\' (JF \\'DEF8E\\'* \\'DE0CH1) #9D\\'G H\\'D#EE \\'DE*-/) 2.E\\'. HG0\\' #E1 (\\'D: \\'D#GEJ) D5HF \\'D3D\\'E H\\'D\\'3*B1\\'1 9DI \\'E*/\\'/ \\'DEF7B) \\'D#H1H(J) \\'D\"3JHJ) \\'DE*1\\'EJ) \\'D#71\\'A\\x0c H.\\'5) AJ EF7B) \"3J\\' \\'DH37I.'\n",
            " '(G) \\'DF51)\"\" 9DI \\'D%7D\\'B. RT '\n",
            " '//\\' 9DI \\'D*2\\'E G0G \\'DEF8E\\'* \\'D+D\\'+ (*7HJ1 \\'D*9\\'HF \\'D9EDJ E9 \\'D#EE \\'DE*-/)\\x0c (E\\' AJ 0DC E1C2G\\' \\'D%BDJEJ DD/(DHE\\'3J) \\'DHB\\'&J) DEF7B) \"3J\\' \\'DH37I.'\n",
            " '000 nuclear weapons between us and the Russians on hair trigger alert. This is a mushroom cloud waiting to happen. So itâ¬\"s really important right now for us to stand up and start building a force to do the right thing.'\n",
            " '000 years to replenish naturally through rainfall. '\n",
            " '1-I H#C+1 EF 3 \"D\\'A E41/. ' '2 :1A) H\\'-/)\\x0c E*9E/\\' 0DC\"\". '\n",
            " \"3'E :1J() E4'(G) AJ *1CJ(G' D*DC 'D#-E'6 'D#EJFJ) . \"\n",
            " '5 BKA. A?>@B82=KE ?;>I04>: 4;O @0728B8O <0AA>2>3> A?>@B0. \\x1e= ?>?@>A8; ?@57845=B0 \"\"?5@5A<>B@5BL =07=0G5=8O\"\" 2 ?>;L7C B0:8E A?>@B82=KE ?;>I04>:. '\n",
            " \"D3 'D#EF 'D*'(9 DG'.\" \"D3 'D#EF.\" \"HJ 'D3H1J. \"\n",
            " 'too many technical impossibilities. tone '\n",
            " 'â¬\" not only showing his traces on the surface but also breaking through. â¬S The Communist Party USA backs Obama to the hilt. â¬\\x9d It is clear that Obama is their man! Obama is Putin 2.0.'\n",
            " 'â¬\\x9d Clinton writes.' 'â¬\\x9d Kennedy said.' 'â¬\\x9d said Schulkin.']\n",
            "X_train shape: (12558, 1)\n",
            "X_test shape: (5383, 1)\n",
            "y_train shape: (12558,)\n",
            "y_test shape: (5383,)\n"
          ]
        }
      ]
    },
    {
      "cell_type": "code",
      "source": [
        "from sklearn.model_selection import train_test_split\n",
        "\n",
        "# Splitting the dataset\n",
        "X_train, X_test, y_train, y_test = train_test_split(X, y, test_size=0.3, random_state=45, stratify=y)\n",
        "\n",
        "# Checking the shapes of the resulting datasets\n",
        "print(\"X_train shape:\", X_train.shape)\n",
        "print(\"X_test shape:\", X_test.shape)\n",
        "print(\"y_train shape:\", y_train.shape)\n",
        "print(\"y_test shape:\", y_test.shape)\n"
      ],
      "metadata": {
        "colab": {
          "base_uri": "https://localhost:8080/"
        },
        "id": "-vBbowCyiNo6",
        "outputId": "70817a20-11ed-4b49-f66e-c1dc47d46df8"
      },
      "execution_count": 79,
      "outputs": [
        {
          "output_type": "stream",
          "name": "stdout",
          "text": [
            "X_train shape: (12558, 1)\n",
            "X_test shape: (5383, 1)\n",
            "y_train shape: (12558,)\n",
            "y_test shape: (5383,)\n"
          ]
        }
      ]
    },
    {
      "cell_type": "code",
      "source": [
        "print(X_train.shape)\n",
        "print(X_test.shape)\n",
        "print(y_train.shape)\n",
        "print(y_test.shape)"
      ],
      "metadata": {
        "colab": {
          "base_uri": "https://localhost:8080/"
        },
        "id": "4PR_t852iYqP",
        "outputId": "0b8b7980-49f2-40b7-87f7-83097d4fb474"
      },
      "execution_count": 80,
      "outputs": [
        {
          "output_type": "stream",
          "name": "stdout",
          "text": [
            "(12558, 1)\n",
            "(5383, 1)\n",
            "(12558,)\n",
            "(5383,)\n"
          ]
        }
      ]
    },
    {
      "cell_type": "code",
      "source": [
        "print(X_train.shape)"
      ],
      "metadata": {
        "colab": {
          "base_uri": "https://localhost:8080/"
        },
        "id": "PonkzGRMifXS",
        "outputId": "2dff3ec6-019c-434a-d949-773186ed2eb6"
      },
      "execution_count": 82,
      "outputs": [
        {
          "output_type": "stream",
          "name": "stdout",
          "text": [
            "(12558, 1)\n"
          ]
        }
      ]
    },
    {
      "cell_type": "code",
      "source": [
        "from sklearn.feature_extraction.text import TfidfVectorizer\n",
        "from sklearn.linear_model import PassiveAggressiveClassifier\n",
        "from sklearn import metrics\n",
        "\n",
        "# Create a TfidfVectorizer object\n",
        "vectorizer = TfidfVectorizer()\n",
        "\n",
        "# Fit the vectorizer to the training data and transform it\n",
        "X_train_tfdif = vectorizer.fit_transform(X_train['content'])\n",
        "\n",
        "# Transform the test data using the fitted vectorizer\n",
        "X_test_tfdif = vectorizer.transform(X_test['content'])\n",
        "\n",
        "# Now you can proceed with fitting the classifier\n",
        "pclf = PassiveAggressiveClassifier()\n",
        "pclf.fit(X_train_tfdif, y_train)\n",
        "predictions = pclf.predict(X_test_tfdif)\n",
        "print(metrics.classification_report(y_test,predictions))"
      ],
      "metadata": {
        "colab": {
          "base_uri": "https://localhost:8080/"
        },
        "id": "mUhCATeZimDQ",
        "outputId": "fe47adb4-9200-42ae-a6db-7bb78fc74463"
      },
      "execution_count": 85,
      "outputs": [
        {
          "output_type": "stream",
          "name": "stdout",
          "text": [
            "              precision    recall  f1-score   support\n",
            "\n",
            "       2016        0.00      0.00      0.00         1\n",
            "           0       0.97      0.97      0.97      3044\n",
            "           1       0.96      0.96      0.96      2338\n",
            "\n",
            "    accuracy                           0.97      5383\n",
            "   macro avg       0.64      0.64      0.64      5383\n",
            "weighted avg       0.97      0.97      0.97      5383\n",
            "\n"
          ]
        },
        {
          "output_type": "stream",
          "name": "stderr",
          "text": [
            "/usr/local/lib/python3.11/dist-packages/sklearn/metrics/_classification.py:1565: UndefinedMetricWarning: Precision is ill-defined and being set to 0.0 in labels with no predicted samples. Use `zero_division` parameter to control this behavior.\n",
            "  _warn_prf(average, modifier, f\"{metric.capitalize()} is\", len(result))\n",
            "/usr/local/lib/python3.11/dist-packages/sklearn/metrics/_classification.py:1565: UndefinedMetricWarning: Precision is ill-defined and being set to 0.0 in labels with no predicted samples. Use `zero_division` parameter to control this behavior.\n",
            "  _warn_prf(average, modifier, f\"{metric.capitalize()} is\", len(result))\n",
            "/usr/local/lib/python3.11/dist-packages/sklearn/metrics/_classification.py:1565: UndefinedMetricWarning: Precision is ill-defined and being set to 0.0 in labels with no predicted samples. Use `zero_division` parameter to control this behavior.\n",
            "  _warn_prf(average, modifier, f\"{metric.capitalize()} is\", len(result))\n"
          ]
        }
      ]
    },
    {
      "cell_type": "code",
      "source": [
        "from sklearn.feature_extraction.text import TfidfVectorizer\n"
      ],
      "metadata": {
        "id": "BOCGIMFPk8bO"
      },
      "execution_count": 87,
      "outputs": []
    },
    {
      "cell_type": "code",
      "source": [
        "tfdif_vec = TfidfVectorizer(analyzer='word', token_pattern=r'\\w{1,}', max_features=5000)  # Changed 'token_patterns' to 'token_pattern'\n",
        "tfdif_vec.fit(X_train['content'])  # Changed 'tfdif_vect' to 'tfdif_vec'\n",
        "X_train_tfdif = tfdif_vec.transform(X_train['content'])  # Changed 'tfdif_vect' to 'tfdif_vec'\n",
        "X_test_tfdif = tfdif_vec.transform(X_test['content'])  # Changed 'tfdif_vect' to 'tfdif_vec'"
      ],
      "metadata": {
        "id": "Tc3JBQ4GlBiv"
      },
      "execution_count": 89,
      "outputs": []
    },
    {
      "cell_type": "code",
      "source": [
        "print(metrics.confusion_matrix(y_test,predictions))"
      ],
      "metadata": {
        "colab": {
          "base_uri": "https://localhost:8080/"
        },
        "id": "dDac61TKnUKy",
        "outputId": "e910c3f4-b536-42f0-ae14-8081f1549c48"
      },
      "execution_count": 90,
      "outputs": [
        {
          "output_type": "stream",
          "name": "stdout",
          "text": [
            "[[   0    0    1]\n",
            " [   0 2952   92]\n",
            " [   0   94 2244]]\n"
          ]
        }
      ]
    },
    {
      "cell_type": "code",
      "source": [
        "from sklearn.neural_network import MLPClassifier\n",
        "mlpclf = MLPClassifier(hidden_layer_sizes=(256,64,16),activation = 'relu', solver = 'adam')\n",
        "mlpclf.fit(X_train_tfdif, y_train)\n",
        "predictions = mlpclf.predict(X_test_tfdif)\n",
        "print(metrics.classification_report(y_test,predictions))"
      ],
      "metadata": {
        "colab": {
          "base_uri": "https://localhost:8080/"
        },
        "id": "y0Jjf6XynmlT",
        "outputId": "04e79e5d-5042-4a61-eaab-f1954a41c44b"
      },
      "execution_count": 91,
      "outputs": [
        {
          "output_type": "stream",
          "name": "stdout",
          "text": [
            "              precision    recall  f1-score   support\n",
            "\n",
            "       2016        0.00      0.00      0.00         1\n",
            "           0       0.96      0.97      0.96      3044\n",
            "           1       0.96      0.94      0.95      2338\n",
            "\n",
            "    accuracy                           0.96      5383\n",
            "   macro avg       0.64      0.64      0.64      5383\n",
            "weighted avg       0.96      0.96      0.96      5383\n",
            "\n"
          ]
        },
        {
          "output_type": "stream",
          "name": "stderr",
          "text": [
            "/usr/local/lib/python3.11/dist-packages/sklearn/metrics/_classification.py:1565: UndefinedMetricWarning: Precision is ill-defined and being set to 0.0 in labels with no predicted samples. Use `zero_division` parameter to control this behavior.\n",
            "  _warn_prf(average, modifier, f\"{metric.capitalize()} is\", len(result))\n",
            "/usr/local/lib/python3.11/dist-packages/sklearn/metrics/_classification.py:1565: UndefinedMetricWarning: Precision is ill-defined and being set to 0.0 in labels with no predicted samples. Use `zero_division` parameter to control this behavior.\n",
            "  _warn_prf(average, modifier, f\"{metric.capitalize()} is\", len(result))\n",
            "/usr/local/lib/python3.11/dist-packages/sklearn/metrics/_classification.py:1565: UndefinedMetricWarning: Precision is ill-defined and being set to 0.0 in labels with no predicted samples. Use `zero_division` parameter to control this behavior.\n",
            "  _warn_prf(average, modifier, f\"{metric.capitalize()} is\", len(result))\n"
          ]
        }
      ]
    },
    {
      "cell_type": "code",
      "source": [
        "print(metrics.confusion_matrix(y_test,predictions))"
      ],
      "metadata": {
        "colab": {
          "base_uri": "https://localhost:8080/"
        },
        "id": "dBJmdMbZoCk_",
        "outputId": "29241ae0-76dd-45d5-faa3-04213ab744dc"
      },
      "execution_count": 92,
      "outputs": [
        {
          "output_type": "stream",
          "name": "stdout",
          "text": [
            "[[   0    0    1]\n",
            " [   0 2943  101]\n",
            " [   0  132 2206]]\n"
          ]
        }
      ]
    },
    {
      "cell_type": "code",
      "source": [
        "import pickle\n",
        "#save trained model to file\n",
        "pickle.dump(mlpclf,open('fakenews1.pkl','wb'))"
      ],
      "metadata": {
        "id": "XMS8sYkAoHso"
      },
      "execution_count": 93,
      "outputs": []
    },
    {
      "cell_type": "code",
      "source": [
        "#load the model from the disk\n",
        "loaded_model = pickle.load(open('fakenews1.pkl','rb'))\n",
        "\n",
        "X_test_tfdif = tfdif_vec.transform(X_test['content'])\n",
        "\n",
        "# Now calculate the score using the transformed data\n",
        "result = loaded_model.score(X_test_tfdif, y_test.values)\n",
        "print(result)"
      ],
      "metadata": {
        "colab": {
          "base_uri": "https://localhost:8080/"
        },
        "id": "4FNzziUgouR5",
        "outputId": "6b6f49fb-8363-4264-dd79-b7e69caf906e"
      },
      "execution_count": 96,
      "outputs": [
        {
          "output_type": "stream",
          "name": "stdout",
          "text": [
            "0.9565298160876834\n"
          ]
        }
      ]
    },
    {
      "cell_type": "code",
      "source": [],
      "metadata": {
        "id": "aYfk2CYEpFT3"
      },
      "execution_count": null,
      "outputs": []
    }
  ]
}