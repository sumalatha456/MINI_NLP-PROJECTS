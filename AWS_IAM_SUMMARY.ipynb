{
  "nbformat": 4,
  "nbformat_minor": 0,
  "metadata": {
    "colab": {
      "provenance": [],
      "authorship_tag": "ABX9TyM+NEHvM1x7OT1knwM+4XlG",
      "include_colab_link": true
    },
    "kernelspec": {
      "name": "python3",
      "display_name": "Python 3"
    },
    "language_info": {
      "name": "python"
    }
  },
  "cells": [
    {
      "cell_type": "markdown",
      "metadata": {
        "id": "view-in-github",
        "colab_type": "text"
      },
      "source": [
        "<a href=\"https://colab.research.google.com/github/sumalatha456/MINI_NLP-PROJECTS/blob/main/AWS_IAM_SUMMARY.ipynb\" target=\"_parent\"><img src=\"https://colab.research.google.com/assets/colab-badge.svg\" alt=\"Open In Colab\"/></a>"
      ]
    },
    {
      "cell_type": "code",
      "execution_count": null,
      "metadata": {
        "id": "XwLtH2F0Jedf"
      },
      "outputs": [],
      "source": []
    },
    {
      "cell_type": "markdown",
      "source": [
        "\n",
        "##Amazon Web Services (AWS) Identity and Access Management (IAM) allows you to create and manage users and groups to securely control access to your AWS resources. Here's a concise summary of how it works:\n",
        "\n",
        "Users\n",
        "Definition: An IAM user is a specific identity associated with a person or a service that needs access to AWS.\n",
        "\n",
        "Creation Steps:\n",
        "\n",
        "Access the IAM Console.\n",
        "\n",
        "Go to \"Users\" and click \"Add Users.\"\n",
        "\n",
        "Assign a username and choose access types (programmatic or management console access).\n",
        "\n",
        "Set permissions (directly attach policies or add the user to a group with pre-defined policies).\n",
        "\n",
        "Optionally, add tags for better organization.\n",
        "\n",
        "Review and complete the process.\n",
        "\n",
        "Key Features: Users have credentials like access keys or passwords for authentication.\n",
        "\n",
        "Groups\n",
        "Definition: An IAM group is a collection of IAM users that share the same permissions.\n",
        "\n",
        "Creation Steps:\n",
        "\n",
        "Access the IAM Console.\n",
        "\n",
        "Go to \"User Groups\" and click \"Create Group.\"\n",
        "\n",
        "Assign a group name.\n",
        "\n",
        "Attach permissions by linking managed policies to the group.\n",
        "\n",
        "Add existing users to the group, if needed.\n",
        "\n",
        "Review and finalize the setup.\n",
        "\n",
        "Key Features: Groups simplify permission management by granting the same policies to multiple users.\n",
        "\n",
        "Benefits of Using IAM Users and Groups\n",
        "Granular Permissions: Precisely control access based on roles and responsibilities.\n",
        "\n",
        "Scalability: Easily manage access for multiple users by assigning permissions at the group level.\n",
        "\n",
        "Security: Avoid sharing root account credentials by using unique identities.\n",
        "\n"
      ],
      "metadata": {
        "id": "7qyqcOrFJfHT"
      }
    },
    {
      "cell_type": "code",
      "source": [],
      "metadata": {
        "id": "uvkkCepjJma3"
      },
      "execution_count": null,
      "outputs": []
    }
  ]
}