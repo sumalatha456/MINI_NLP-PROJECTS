{
  "nbformat": 4,
  "nbformat_minor": 0,
  "metadata": {
    "colab": {
      "provenance": [],
      "authorship_tag": "ABX9TyOZqj7GADHNYh/oR2tYHZjs",
      "include_colab_link": true
    },
    "kernelspec": {
      "name": "python3",
      "display_name": "Python 3"
    },
    "language_info": {
      "name": "python"
    }
  },
  "cells": [
    {
      "cell_type": "markdown",
      "metadata": {
        "id": "view-in-github",
        "colab_type": "text"
      },
      "source": [
        "<a href=\"https://colab.research.google.com/github/sumalatha456/MINI_NLP-PROJECTS/blob/main/Gemini_AI_Image_Analysis.ipynb\" target=\"_parent\"><img src=\"https://colab.research.google.com/assets/colab-badge.svg\" alt=\"Open In Colab\"/></a>"
      ]
    },
    {
      "cell_type": "code",
      "execution_count": 1,
      "metadata": {
        "id": "-2UmjWwF9t66"
      },
      "outputs": [],
      "source": [
        "import google.generativeai as genai\n",
        "from google.colab import userdata\n",
        "GOOGLE_API_KEY = userdata.get('GOOGLE_API_KEY')\n",
        "genai.configure(api_key=GOOGLE_API_KEY)\n",
        "\n"
      ]
    },
    {
      "cell_type": "code",
      "source": [
        "import pathlib\n",
        "import textwrap\n",
        "from IPython.display import display, Markdown\n",
        "def to_markdown(text):\n",
        "  text = text.replace('.', '*')\n",
        "  return Markdown(textwrap.indent(text, '>', predicate=lambda _: True))"
      ],
      "metadata": {
        "id": "YggX7_3993Wv"
      },
      "execution_count": 5,
      "outputs": []
    },
    {
      "cell_type": "code",
      "source": [
        "\n",
        "import PIL.Image\n",
        "img = PIL.Image.open('image1.jpg')\n",
        "img\n",
        "model = genai.GenerativeModel('gemini-1.5-flash')\n",
        "response = model.generate_content([\" Write a short, engaging blog post based on this picture. \\nIt should include a description of the meal in the photo and talk about my journey meal prepping.\", img],\n",
        "stream=True)\n",
        "response.resolve()\n"
      ],
      "metadata": {
        "id": "ypMlrEDn-sBy"
      },
      "execution_count": 9,
      "outputs": []
    },
    {
      "cell_type": "code",
      "source": [
        "to_markdown(response.text)"
      ],
      "metadata": {
        "colab": {
          "base_uri": "https://localhost:8080/",
          "height": 354
        },
        "id": "PcGkkpMgAkaI",
        "outputId": "ddaeacf3-4c1c-4463-a8be-a76f46b9cf70"
      },
      "execution_count": 11,
      "outputs": [
        {
          "output_type": "execute_result",
          "data": {
            "text/plain": [
              "<IPython.core.display.Markdown object>"
            ],
            "text/markdown": ">## My Meal Prep Journey: From Chaos to Chicken & Broccoli Bliss!\n>\n>Let's be honest, meal prepping was never on my to-do list*  My lunches were a sad rotation of takeout and whatever sad desk-sandwich ingredients I could scrounge together*  Dinner?  Well, that was usually a hurried affair, often involving something highly processed and lacking in, shall we say, nutritional value*\n>\n>Then came the turning point* I realized how much better I felt - more energized, less sluggish - when I ate healthy, balanced meals*  But the thought of spending hours in the kitchen every Sunday still filled me with dread*  That's when I discovered the magic of *efficient* meal prepping*\n>\n>These two beauties in the photo are a testament to that! Each container is packed with a delicious and satisfying portion of teriyaki chicken, fluffy white rice, vibrant roasted carrots and broccoli*  It’s the perfect balance of protein, carbs, and those essential greens*  It’s also incredibly quick to assemble, a win for my always-busy schedule*\n>\n>My journey started small* I began by prepping one or two meals a week* Then, I gradually increased the number as I found my rhythm*  I learned to embrace batch cooking: doubling recipes, roasting a whole tray of vegetables, and even using leftovers creatively*\n>\n>The key? Finding simple recipes I actually *enjoy* eating* These teriyaki chicken bowls are a perfect example*  They’re flavorful, healthy, and satisfying* And most importantly, prepping them is no longer a dreaded chore, but a ritual that sets me up for a week of success*\n>\n>So, ditch the takeout menus and embrace the deliciousness of meal prepping! It’s a game-changer, trust me*  Want to know my exact recipe for these bowls? Let me know in the comments!\n"
          },
          "metadata": {},
          "execution_count": 11
        }
      ]
    },
    {
      "cell_type": "markdown",
      "source": [
        "generate an image caption\n"
      ],
      "metadata": {
        "id": "Rf58CBsbCEx-"
      }
    },
    {
      "cell_type": "code",
      "source": [
        "response = model.generate_content([\"Generate an accurate caption for thus image.\", img])\n",
        "print(response.text)"
      ],
      "metadata": {
        "colab": {
          "base_uri": "https://localhost:8080/",
          "height": 402
        },
        "id": "S04lo2CUBA-U",
        "outputId": "4d24fc56-0828-4770-d1bc-cb27ed9765bf"
      },
      "execution_count": 13,
      "outputs": [
        {
          "output_type": "stream",
          "name": "stdout",
          "text": [
            "Here are a few caption options for the image:\n",
            "\n",
            "**Option 1 (Simple & Descriptive):**\n",
            "\n",
            "> Healthy and delicious meal prep!  Chicken and broccoli with rice.\n",
            "\n",
            "**Option 2 (More Engaging):**\n",
            "\n",
            "> Lunch goals!  These chicken and veggie bowls are packed with flavor and ready to go.  #mealprep #healthyfood #chickendinner #easyrecipes\n",
            "\n",
            "**Option 3 (Focus on Convenience):**\n",
            "\n",
            "> Easy weeknight dinners made simple.  Meal prepping just got easier! #mealprepping #healthymeals #weeknightdinner\n",
            "\n",
            "**Option 4 (Question to Engage Audience):**\n",
            "\n",
            "> What's your favorite meal prep recipe?  These chicken and veggie bowls are definitely a top contender for me! #mealprepideas #healthylifestyle #whattoeat\n",
            "\n",
            "\n",
            "Choose the caption that best suits your intended audience and platform.\n",
            "\n"
          ]
        }
      ]
    },
    {
      "cell_type": "markdown",
      "source": [
        "Describe an Image"
      ],
      "metadata": {
        "id": "lHS2W5TNEcJO"
      }
    },
    {
      "cell_type": "code",
      "source": [
        "from PIL import Image\n",
        "image_path = \"girl.jpg\"\n",
        "image = Image.open(image_path)\n",
        "response = model.generate_content([\"Describe the image in detail.\", image])\n",
        "print(response.text)"
      ],
      "metadata": {
        "colab": {
          "base_uri": "https://localhost:8080/",
          "height": 211
        },
        "id": "sk20bNNbCVkV",
        "outputId": "d5213192-3c86-4c8c-d944-b2beec036083"
      },
      "execution_count": 14,
      "outputs": [
        {
          "output_type": "stream",
          "name": "stdout",
          "text": [
            "Here's a description of the image:\n",
            "\n",
            "Close-up view of a woman with shoulder-length, curly brown hair. \n",
            "\n",
            "\n",
            "She is smiling and gesturing with her right index finger, as if pointing to something off-camera. Her expression is friendly and inviting. She is wearing a teal blue three-quarter-sleeve top or kurta with a subtle gold print or pattern. The top appears to be made of a soft, possibly cotton or linen-like material. The top has a simple, slightly open neckline.\n",
            "\n",
            "\n",
            "The background is a plain, bright white, which keeps the focus entirely on the woman. The lighting is even and soft, minimizing shadows on her face. The overall impression is one of a casual, approachable, and possibly promotional or advertising-style image.\n",
            "\n"
          ]
        }
      ]
    },
    {
      "cell_type": "code",
      "source": [
        "response = model.generate_content([\"What emotions can you detect in the image.\", image])\n",
        "print(response.text)"
      ],
      "metadata": {
        "colab": {
          "base_uri": "https://localhost:8080/",
          "height": 72
        },
        "id": "8wH3RjvOE8ep",
        "outputId": "e4159b41-74f9-48ec-8a58-33c8640f6a17"
      },
      "execution_count": 15,
      "outputs": [
        {
          "output_type": "stream",
          "name": "stdout",
          "text": [
            "The woman in the image appears to be exhibiting happiness and confidence.  Her smile is genuine, and her body language —  pointing with a direct gaze — suggests she is assertive and possibly inviting the viewer to consider something.  There's no indication of negative emotions.\n",
            "\n"
          ]
        }
      ]
    },
    {
      "cell_type": "code",
      "source": [
        "from PIL import Image\n",
        "image_path = \"krishna.jpg.crdownload\"\n",
        "image = Image.open(image_path)\n",
        "response = model.generate_content([\"Describe the image in detail.\", image])\n",
        "print(response.text)"
      ],
      "metadata": {
        "colab": {
          "base_uri": "https://localhost:8080/",
          "height": 332
        },
        "id": "cUTrvymBFjHM",
        "outputId": "8d565035-fb14-439d-c4f7-bd4804efaafc"
      },
      "execution_count": 17,
      "outputs": [
        {
          "output_type": "stream",
          "name": "stdout",
          "text": [
            "Here's a description of the image:\n",
            "\n",
            "Close-up view of a stylized animated depiction of Krishna, the Hindu deity, as a young boy. \n",
            "\n",
            "\n",
            "Here's a breakdown of the image's components:\n",
            "\n",
            "* **Krishna:** He is rendered in a vibrant blue hue, with large, expressive eyes and a gentle smile. His dark hair is styled neatly, adorned with a peacock feather, a common symbol associated with him. He wears traditional jewelry, including earrings, necklaces, and bracelets, all rendered with a golden sheen. He's playing a golden flute, his fingers delicately positioned on the instrument. His clothing consists of an orange dhoti (a type of garment). His body is smooth and has a three-dimensional quality.\n",
            "\n",
            "* **Setting:** Krishna is situated in a lush, verdant forest setting. Behind him, a large tree's branch partially obscures the view. The background features a soft-focus depiction of rolling hills and more foliage, suggesting a serene and idyllic environment. The foliage includes various shades of green and small, colorful flowers in pink and purple.\n",
            "\n",
            "* **Animal:** To the lower left, a cartoonish fawn or young deer looks towards Krishna. It has friendly features and brown and tan coloring.\n",
            "\n",
            "* **Style:** The overall artistic style is reminiscent of children's animation. The colors are bright and saturated, the characters are cute and expressive, and the background is slightly blurred to keep the focus on Krishna.  The rendering gives a three-dimensional feeling, although it is clearly a digitally created image.\n",
            "\n",
            "The image conveys a sense of peace, tranquility, and the playful nature often attributed to depictions of young Krishna.\n",
            "\n"
          ]
        }
      ]
    },
    {
      "cell_type": "code",
      "source": [
        "response = model.generate_content([\"What emotions can you detect in the image.\", image])\n",
        "print(response.text)"
      ],
      "metadata": {
        "colab": {
          "base_uri": "https://localhost:8080/",
          "height": 211
        },
        "id": "wJdFXwNNGDGn",
        "outputId": "6f0a2686-229f-480b-f7cd-25fd00228d2f"
      },
      "execution_count": 18,
      "outputs": [
        {
          "output_type": "stream",
          "name": "stdout",
          "text": [
            "The image evokes feelings of:\n",
            "\n",
            "* **Joy and peacefulness:** The serene setting, Krishna's gentle expression as he plays his flute, and the calm demeanor of the deer all contribute to a sense of tranquility and happiness.\n",
            "* **Innocence and purity:** Krishna's youthful appearance and the overall bright, vibrant colors of the image reinforce feelings of childhood innocence and purity.\n",
            "* **Wonder and enchantment:** The magical quality of the scene, with its lush greenery, playful deer, and the divine Krishna, create a sense of wonder and enchantment.\n",
            "* **Devotion and spirituality:**  The depiction of Krishna, a revered Hindu deity, playing the flute, evokes feelings of spiritual devotion and reverence.\n",
            "\n",
            "\n",
            "The emotions are primarily positive and uplifting.  There's nothing in the image to suggest negative emotions.\n",
            "\n"
          ]
        }
      ]
    },
    {
      "cell_type": "code",
      "source": [],
      "metadata": {
        "id": "6Uh3F8nIGOnN"
      },
      "execution_count": null,
      "outputs": []
    }
  ]
}