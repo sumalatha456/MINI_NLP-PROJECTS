{
  "nbformat": 4,
  "nbformat_minor": 0,
  "metadata": {
    "colab": {
      "provenance": [],
      "authorship_tag": "ABX9TyPxkhpRNV8scwaqFe24bNeX",
      "include_colab_link": true
    },
    "kernelspec": {
      "name": "python3",
      "display_name": "Python 3"
    },
    "language_info": {
      "name": "python"
    }
  },
  "cells": [
    {
      "cell_type": "markdown",
      "metadata": {
        "id": "view-in-github",
        "colab_type": "text"
      },
      "source": [
        "<a href=\"https://colab.research.google.com/github/sumalatha456/MINI_NLP-PROJECTS/blob/main/Rule_Based_Chatbit.ipynb\" target=\"_parent\"><img src=\"https://colab.research.google.com/assets/colab-badge.svg\" alt=\"Open In Colab\"/></a>"
      ]
    },
    {
      "cell_type": "code",
      "execution_count": 7,
      "metadata": {
        "id": "FuKr90RuAWad"
      },
      "outputs": [],
      "source": [
        "import nltk\n",
        "import re\n",
        "from nltk.chat.util import Chat, reflections"
      ]
    },
    {
      "cell_type": "code",
      "source": [
        "#Downloading NLTK data\n",
        "nltk.download('punkt')\n",
        "nltk.download('averaged_perceptron_tagger')\n"
      ],
      "metadata": {
        "colab": {
          "base_uri": "https://localhost:8080/"
        },
        "id": "3M5XrcbcAmqm",
        "outputId": "04e1d54b-8b8f-4bef-878b-ed14c0cf8a93"
      },
      "execution_count": 8,
      "outputs": [
        {
          "output_type": "stream",
          "name": "stderr",
          "text": [
            "[nltk_data] Downloading package punkt to /root/nltk_data...\n",
            "[nltk_data]   Package punkt is already up-to-date!\n",
            "[nltk_data] Downloading package averaged_perceptron_tagger to\n",
            "[nltk_data]     /root/nltk_data...\n",
            "[nltk_data]   Package averaged_perceptron_tagger is already up-to-\n",
            "[nltk_data]       date!\n"
          ]
        },
        {
          "output_type": "execute_result",
          "data": {
            "text/plain": [
              "True"
            ]
          },
          "metadata": {},
          "execution_count": 8
        }
      ]
    },
    {
      "cell_type": "code",
      "source": [
        "#(pairs = [\n",
        "    [r\"my name is(.*)\", [\"Heloo %1, how can I assist you today?\",]],\n",
        "    [r\"hi|hey|hello\", [\"Hello , how can I help you?\", \"Hey there! What can I do for you?\",\n",
        "                       \"Hi! How can I assist you today\"]],\n",
        "    [r\"What is your name?\", [\"I am a chatbot created to assist you. You can call me Chatbot.\",]],\n",
        "    [r\"how are you?\", [\"I'm a bot,so i dont have any feelings, but I'm here to help you!\",]],\n",
        "    [r\"sorry (.*)\",[\"It's okay.How can I assist you?,\"]],\n",
        "    [r\"thank you|thanks\", \"You're Welcome!\",\"No probelm!\",\"Happy to help!\"], # Fixed: Removed extra bracket and aligned indentation\n",
        "    [r\"quit\",[\"Bye! Have a great day!\",\"Goodbye!\"]], # Fixed: Aligned indentation\n",
        "    [r\"(.*)\",[\"I'm sorry,I don't understand that. can you rephrase?\",\"Could you please elobrate on that?\"]], # Fixed: Aligned indentation\n",
        "    [r\"what is your favorite color?\", [\"I don't see colors like you do, but I imagine they're all amazing!\"]],\n",
        "    [r\"can you tell me a joke?\", [\"Why don't programmers like nature? It has too many bugs!\"]],\n",
        "    [r\"what do you like to do?\", [\"I love helping and chatting with you!\", \"Answering your questions is what I do best!\"]],\n",
        "    [r\"what is the time now?\", [\"I'm not wearing a watch, but you can check the time on your device!\",]],\n",
        "    [r\"do you believe in aliens?\", [\"I haven't met one, but the universe is vast and full of possibilities!\"]],\n",
        "    [r\"how old are you?\", [\"I'm ageless—built to serve at any time!\",]],\n",
        "    [r\"can you dance?\", [\"I can imagine dancing, but I think you’d be better at it!\",]],\n",
        "    [r\"why do you exist?\", [\"To make your life easier and more interesting!\",]],\n",
        "    [r\"can you sing?\", [\"I can't carry a tune, but I can find you song lyrics or a music recommendation!\",]],\n",
        "    [r\"who created you?\", [\"I was created by Microsoft to assist and interact with you!\",]]\n",
        "]"
      ],
      "metadata": {
        "id": "YkXggDftAtca",
        "colab": {
          "base_uri": "https://localhost:8080/",
          "height": 106
        },
        "outputId": "5fa392a0-de0c-4c3a-92ed-bdfe5af7b004"
      },
      "execution_count": 11,
      "outputs": [
        {
          "output_type": "error",
          "ename": "IndentationError",
          "evalue": "unexpected indent (<ipython-input-11-7bd6cd8610b6>, line 2)",
          "traceback": [
            "\u001b[0;36m  File \u001b[0;32m\"<ipython-input-11-7bd6cd8610b6>\"\u001b[0;36m, line \u001b[0;32m2\u001b[0m\n\u001b[0;31m    [r\"my name is(.*)\", [\"Heloo %1, how can I assist you today?\",]],\u001b[0m\n\u001b[0m    ^\u001b[0m\n\u001b[0;31mIndentationError\u001b[0m\u001b[0;31m:\u001b[0m unexpected indent\n"
          ]
        }
      ]
    },
    {
      "cell_type": "code",
      "source": [
        "from nltk.chat.util import Chat, reflections  # Ensure you have nltk installed\n",
        "\n",
        "class RBChatbot:\n",
        "    def __init__(self, pairs):\n",
        "        self.chat = Chat(pairs, reflections)  # Initialize the chatbot with pairs and reflections\n",
        "\n",
        "    def respond(self, user_input):\n",
        "        return self.chat.respond(user_input)  # Generate a response based on user input\n",
        "\n",
        "# Define the pairs (patterns and responses)\n",
        "pairs = [\n",
        "    [r\"my name is (.*)\", [\"Hello %1, how can I assist you today?\"]],\n",
        "    [r\"hi|hey|hello\", [\"Hello, how can I help you?\", \"Hey there! What can I do for you?\", \"Hi! How can I assist you today?\"]],\n",
        "    [r\"what is your name?\", [\"I am a chatbot created to assist you. You can call me Chatbot.\"]],\n",
        "    [r\"how are you?\", [\"I'm a bot, so I don’t have feelings, but I'm here to help you!\"]],\n",
        "    [r\"sorry (.*)\", [\"It's okay. How can I assist you?\"]],\n",
        "    [r\"thank you|thanks\", [\"You're welcome!\", \"No problem!\", \"Happy to help!\"]],\n",
        "    [r\"quit\", [\"Bye! Have a great day!\", \"Goodbye!\"]],\n",
        "    [r\"(.*)\", [\"I'm sorry, I don't understand that. Can you rephrase?\", \"Could you please elaborate on that?\"]],\n",
        "    [r\"best places(.*)\", [\"Hyderabad\",\"mumbai\",\"Banglore\",\"kerala\",\"gujrat\",\"New dehli\"]]\n",
        "]\n",
        "\n",
        "# Instantiate the chatbot with the defined pairs\n",
        "chatbot = RBChatbot(pairs)\n",
        "\n",
        "def chat_with_bot():\n",
        "    print(\"Hi, I'm your chatbot. Type 'quit' to exit.\")\n",
        "    while True:\n",
        "        user_input = input(\"You: \").strip()  # Trim whitespace from the input\n",
        "        if user_input.lower() == 'quit':  # Check if the user wants to exit\n",
        "            print(\"Chatbot: Bye! Have a great day!\")\n",
        "            break\n",
        "        response = chatbot.respond(user_input)  # Get the chatbot's response\n",
        "        if response:  # Check if a response exists\n",
        "            print(f\"Chatbot: {response}\")\n",
        "        else:  # Handle unexpected cases where no response is found\n",
        "            print(\"Chatbot: Hmm, I’m not sure how to respond to that.\")\n",
        "\n",
        "# Start the chatbot\n",
        "if __name__ == \"__main__\":\n",
        "    chat_with_bot()\n"
      ],
      "metadata": {
        "colab": {
          "base_uri": "https://localhost:8080/"
        },
        "id": "SOrg7byRq_o4",
        "outputId": "82048e27-f750-4c70-ca35-4ecce7c8be98"
      },
      "execution_count": 10,
      "outputs": [
        {
          "output_type": "stream",
          "name": "stdout",
          "text": [
            "Hi, I'm your chatbot. Type 'quit' to exit.\n",
            "You: hello\n",
            "Chatbot: Hi! How can I assist you today?\n",
            "You: my name is sai\n",
            "Chatbot: Hello sai, how can I assist you today?\n",
            "You: how are you\n",
            "Chatbot: I'm a bot, so I don’t have feelings, but I'm here to help you!\n",
            "You: best places\n",
            "Chatbot: Could you please elaborate on that?\n",
            "You: what is you favorite movie\n",
            "Chatbot: Could you please elaborate on that?\n",
            "You: best  places\n",
            "Chatbot: I'm sorry, I don't understand that. Can you rephrase?\n",
            "You: quit\n",
            "Chatbot: Bye! Have a great day!\n"
          ]
        }
      ]
    },
    {
      "cell_type": "code",
      "source": [],
      "metadata": {
        "id": "LNvRz-Y8r3ld"
      },
      "execution_count": 10,
      "outputs": []
    },
    {
      "cell_type": "code",
      "source": [],
      "metadata": {
        "id": "bvHMpTKtv3m9"
      },
      "execution_count": null,
      "outputs": []
    }
  ]
}