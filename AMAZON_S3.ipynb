{
  "nbformat": 4,
  "nbformat_minor": 0,
  "metadata": {
    "colab": {
      "provenance": [],
      "authorship_tag": "ABX9TyM8b246UlW9Awanv4MbHYH1",
      "include_colab_link": true
    },
    "kernelspec": {
      "name": "python3",
      "display_name": "Python 3"
    },
    "language_info": {
      "name": "python"
    }
  },
  "cells": [
    {
      "cell_type": "markdown",
      "metadata": {
        "id": "view-in-github",
        "colab_type": "text"
      },
      "source": [
        "<a href=\"https://colab.research.google.com/github/sumalatha456/MINI_NLP-PROJECTS/blob/main/AMAZON_S3.ipynb\" target=\"_parent\"><img src=\"https://colab.research.google.com/assets/colab-badge.svg\" alt=\"Open In Colab\"/></a>"
      ]
    },
    {
      "cell_type": "code",
      "execution_count": null,
      "metadata": {
        "id": "xhI1g_3u0Bt5"
      },
      "outputs": [],
      "source": []
    },
    {
      "cell_type": "markdown",
      "source": [
        "SUMMARY ON AMAZON S3"
      ],
      "metadata": {
        "id": "5UJqB9xq0cst"
      }
    },
    {
      "cell_type": "markdown",
      "source": [
        "##Amazon S3 (Simple Storage Service) is a scalable and secure storage service provided by AWS (Amazon Web Services). It allows users to store, retrieve, and manage data objects, such as files and images, in \"buckets.\" A bucket in S3 acts as a container for data, and you can organize your objects within it. It is widely used for backups, data archiving, hosting websites, and serving media content.\n",
        "##Amazon S3 is a highly durable and secure object storage service designed to store and retrieve any amount of data. It is an ideal choice for various use cases, including website hosting, big data analytics, backup and recovery, archiving, and media storage. Key features include:\n",
        "\n",
        "##Durability: Ensures 99.999999999% durability by replicating data across multiple locations.\n",
        "\n",
        "##Security: Offers features like encryption, access control, and AWS Identity and Access Management (IAM) integration.\n",
        "\n",
        "##Flexibility: Supports various storage classes like Standard, Intelligent-Tiering, and Glacier for cost optimization.\n",
        "\n",
        "##Steps to Create an S3 Bucket:\n",
        "##Log in to AWS Management Console:\n",
        "\n",
        "Access the AWS Console and sign in with your credentials.\n",
        "\n",
        "Navigate to S3 Dashboard:\n",
        "\n",
        "In the search bar, type “S3” and click on S3 under the \"Storage\" section.\n",
        "\n",
        "Create a Bucket:\n",
        "\n",
        "Click the \"Create bucket\" button.\n",
        "\n",
        "Name Your Bucket:\n",
        "\n",
        "Enter a unique bucket name that complies with AWS naming rules (e.g., no spaces, use lowercase letters, and ensure global uniqueness).\n",
        "\n",
        "Choose an AWS Region:\n",
        "\n",
        "Select the AWS region closest to your primary user base or workload for better latency and cost efficiency.\n",
        "\n",
        "Configure Options:\n",
        "\n",
        "Versioning: Enable this feature to keep multiple versions of an object.\n",
        "\n",
        "Encryption: Choose server-side encryption (e.g., SSE-S3, SSE-KMS) to protect your data.\n",
        "\n",
        "Bucket Policies: Decide on access settings—whether the bucket will be private, public, or configured for specific users.\n",
        "\n",
        "Enable Advanced Features (Optional):\n",
        "\n",
        "Configure additional settings like logging, object lock, and replication.\n",
        "\n",
        "Review Settings:\n",
        "\n",
        "Double-check all your configurations before proceeding.\n",
        "\n",
        "Create the Bucket:\n",
        "\n",
        "Click the “Create bucket” button, and your bucket will be ready for use.\n",
        "\n",
        "Upload Objects:\n",
        "\n",
        "Once the bucket is created, you can start uploading files or use AWS SDKs, CLI, or API for programmatic access."
      ],
      "metadata": {
        "id": "NEzgAmrY0HCJ"
      }
    },
    {
      "cell_type": "code",
      "source": [],
      "metadata": {
        "id": "uYi7-Jhd0YAj"
      },
      "execution_count": null,
      "outputs": []
    }
  ]
}