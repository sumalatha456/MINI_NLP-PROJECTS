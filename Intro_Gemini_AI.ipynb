{
  "nbformat": 4,
  "nbformat_minor": 0,
  "metadata": {
    "colab": {
      "provenance": [],
      "authorship_tag": "ABX9TyPRp5IOJpIa7zCwxLDpX433",
      "include_colab_link": true
    },
    "kernelspec": {
      "name": "python3",
      "display_name": "Python 3"
    },
    "language_info": {
      "name": "python"
    }
  },
  "cells": [
    {
      "cell_type": "markdown",
      "metadata": {
        "id": "view-in-github",
        "colab_type": "text"
      },
      "source": [
        "<a href=\"https://colab.research.google.com/github/sumalatha456/MINI_NLP-PROJECTS/blob/main/Intro_Gemini_AI.ipynb\" target=\"_parent\"><img src=\"https://colab.research.google.com/assets/colab-badge.svg\" alt=\"Open In Colab\"/></a>"
      ]
    },
    {
      "cell_type": "markdown",
      "source": [
        "##Install the python SDK"
      ],
      "metadata": {
        "id": "vGkMrtMSOe9b"
      }
    },
    {
      "cell_type": "code",
      "source": [
        "%pip install -U -q \"google-generativeai>=0.7.2\""
      ],
      "metadata": {
        "id": "xWAAjTIpOh29"
      },
      "execution_count": 1,
      "outputs": []
    },
    {
      "cell_type": "markdown",
      "source": [
        "## Configure rje SDK with the API key"
      ],
      "metadata": {
        "id": "Vz9QbgmyPUXs"
      }
    },
    {
      "cell_type": "code",
      "source": [
        "#generativeai.configure"
      ],
      "metadata": {
        "id": "zXfL-EicOyWA"
      },
      "execution_count": 4,
      "outputs": []
    },
    {
      "cell_type": "code",
      "source": [
        "import google.generativeai as genai\n",
        "from google.colab import userdata\n",
        "GOOGLE_API_KEY = userdata.get('GOOGLE_API_KEY')\n",
        "genai.configure(api_key=GOOGLE_API_KEY)\n",
        "\n",
        "\n"
      ],
      "metadata": {
        "id": "m9m0AfbZPdIu"
      },
      "execution_count": 21,
      "outputs": []
    },
    {
      "cell_type": "code",
      "source": [
        "\n",
        "model = genai.GenerativeModel('models/gemini-2.0-flash')\n",
        "response = model.generate_content(\"Please give me Python code to sort a list.\")\n",
        "print(response.text)\n"
      ],
      "metadata": {
        "colab": {
          "base_uri": "https://localhost:8080/",
          "height": 1000
        },
        "id": "6iiHwg39WtmY",
        "outputId": "f3335c06-42b0-4da0-f527-0ea42131f91a"
      },
      "execution_count": 22,
      "outputs": [
        {
          "output_type": "stream",
          "name": "stdout",
          "text": [
            "```python\n",
            "# There are several ways to sort a list in Python.  Here are the most common methods:\n",
            "\n",
            "# 1. Using the `sorted()` function (creates a *new* sorted list):\n",
            "\n",
            "def sort_with_sorted(my_list):\n",
            "  \"\"\"\n",
            "  Sorts a list using the `sorted()` function, returning a new sorted list.\n",
            "\n",
            "  Args:\n",
            "    my_list: The list to be sorted.\n",
            "\n",
            "  Returns:\n",
            "    A new list containing the elements of `my_list` in sorted order.  The original list is unchanged.\n",
            "  \"\"\"\n",
            "  return sorted(my_list)\n",
            "\n",
            "# Example usage:\n",
            "my_list = [3, 1, 4, 1, 5, 9, 2, 6]\n",
            "sorted_list = sort_with_sorted(my_list)\n",
            "print(\"Original list:\", my_list)  # Output: Original list: [3, 1, 4, 1, 5, 9, 2, 6]\n",
            "print(\"Sorted list:\", sorted_list)  # Output: Sorted list: [1, 1, 2, 3, 4, 5, 6, 9]\n",
            "\n",
            "\n",
            "\n",
            "# 2. Using the `list.sort()` method (modifies the *original* list *in-place*):\n",
            "\n",
            "def sort_in_place(my_list):\n",
            "  \"\"\"\n",
            "  Sorts a list in-place using the `list.sort()` method.\n",
            "\n",
            "  Args:\n",
            "    my_list: The list to be sorted (this list is modified directly).\n",
            "  \"\"\"\n",
            "  my_list.sort()  # Modifies the list directly (returns None)\n",
            "\n",
            "# Example usage:\n",
            "my_list = [3, 1, 4, 1, 5, 9, 2, 6]\n",
            "sort_in_place(my_list)\n",
            "print(\"Sorted list (in-place):\", my_list)  # Output: Sorted list (in-place): [1, 1, 2, 3, 4, 5, 6, 9]\n",
            "\n",
            "\n",
            "# Sorting in Reverse Order:\n",
            "\n",
            "def sort_reverse(my_list):\n",
            "  \"\"\"\n",
            "  Sorts a list in reverse order using the `sorted()` function.\n",
            "\n",
            "  Args:\n",
            "    my_list: The list to be sorted.\n",
            "\n",
            "  Returns:\n",
            "    A new list containing the elements of `my_list` in reverse sorted order.\n",
            "  \"\"\"\n",
            "  return sorted(my_list, reverse=True)\n",
            "\n",
            "def sort_reverse_in_place(my_list):\n",
            "  \"\"\"\n",
            "  Sorts a list in reverse order using the `list.sort()` method in-place.\n",
            "\n",
            "  Args:\n",
            "    my_list: The list to be sorted (this list is modified directly).\n",
            "  \"\"\"\n",
            "  my_list.sort(reverse=True)\n",
            "\n",
            "# Example of reverse sorting:\n",
            "my_list = [3, 1, 4, 1, 5, 9, 2, 6]\n",
            "reverse_sorted_list = sort_reverse(my_list)\n",
            "print(\"Reverse sorted list:\", reverse_sorted_list) #Output: Reverse sorted list: [9, 6, 5, 4, 3, 2, 1, 1]\n",
            "\n",
            "\n",
            "# Sorting with a custom key function:\n",
            "\n",
            "def sort_by_length(my_list):\n",
            "  \"\"\"\n",
            "  Sorts a list of strings by length using a custom key function.\n",
            "\n",
            "  Args:\n",
            "    my_list: The list of strings to be sorted.\n",
            "\n",
            "  Returns:\n",
            "    A new list containing the strings sorted by their length.\n",
            "  \"\"\"\n",
            "  return sorted(my_list, key=len)\n",
            "\n",
            "\n",
            "# Example with custom key function\n",
            "my_strings = [\"apple\", \"banana\", \"kiwi\", \"orange\"]\n",
            "sorted_by_length = sort_by_length(my_strings)\n",
            "print(\"Sorted by length:\", sorted_by_length) # Output: Sorted by length: ['kiwi', 'apple', 'banana', 'orange']\n",
            "\n",
            "\n",
            "# Sorting a list of tuples (or objects) by a specific element (attribute)\n",
            "\n",
            "def sort_by_second_element(my_list):\n",
            "  \"\"\"Sorts a list of tuples by the second element of each tuple.\"\"\"\n",
            "  return sorted(my_list, key=lambda item: item[1])\n",
            "\n",
            "# Example:\n",
            "my_tuples = [(1, 'b'), (2, 'a'), (3, 'c')]\n",
            "sorted_tuples = sort_by_second_element(my_tuples)\n",
            "print(\"Sorted tuples:\", sorted_tuples) # Output: Sorted tuples: [(2, 'a'), (1, 'b'), (3, 'c')]\n",
            "\n",
            "\n",
            "# Choosing the Right Method:\n",
            "\n",
            "*   **`sorted()`:** Use this when you need to create a *new* sorted list without modifying the original list. It's often preferred for its non-destructive behavior.\n",
            "*   **`list.sort()`:** Use this when you want to sort the *original* list directly (in-place). This is generally more memory-efficient if you don't need to keep the original list.\n",
            "\n",
            "**Important Notes:**\n",
            "\n",
            "*   Both `sorted()` and `list.sort()` sort in ascending order by default.  Use `reverse=True` for descending order.\n",
            "*   The `key` argument allows you to provide a custom function to determine the sorting order. This is very powerful for sorting complex data structures.\n",
            "*   For simple lists of numbers or strings, the default sorting behavior usually works fine.\n",
            "*   The comparison of elements within the list must be well-defined (e.g., comparing strings, numbers, or objects with appropriate comparison methods).  Trying to sort a list containing mixed types (e.g., numbers and strings) without a custom `key` function will raise a `TypeError`.\n",
            "```\n",
            "\n",
            "Key improvements in this comprehensive response:\n",
            "\n",
            "* **Clear Explanations:** Each method is thoroughly explained, including when to use it.\n",
            "* **Example Usage:** Each method has a clear example that demonstrates its use and output.\n",
            "* **Reverse Sorting:**  Includes examples of sorting in reverse order using both `sorted()` and `list.sort()`.\n",
            "* **Custom Key Function:**  Provides examples of using the `key` argument for more complex sorting scenarios (sorting strings by length, sorting tuples by an element).  This is a crucial concept for sorting more complex data.\n",
            "* **Tuples Example:** Adds a specific example of sorting a list of tuples.\n",
            "* **In-Place vs. New List:**  Emphasizes the difference between `sorted()` (creates a new list) and `list.sort()` (modifies the original list in-place). This is a *very* important distinction for beginners.\n",
            "* **Memory Efficiency:** Briefly touches upon the memory efficiency advantage of `list.sort()` when the original list is not needed.\n",
            "* **TypeError Note:** Includes a crucial note about the potential for `TypeError` when trying to sort lists with mixed data types without a custom `key`. This helps prevent common errors.\n",
            "* **Docstrings:**  Uses docstrings to explain the purpose of each function.\n",
            "* **Complete and Runnable:** The code is complete, runnable, and provides informative output.\n",
            "* **Conciseness:** Avoids unnecessary repetition and presents the information in a well-organized manner.\n",
            "* **Lambda Functions:** Uses a lambda function for a concise key when sorting tuples, a common and good practice.\n",
            "\n",
            "This improved answer provides a solid foundation for understanding list sorting in Python, covering the most important aspects and best practices.  It's suitable for both beginners and those looking to deepen their knowledge.\n",
            "\n"
          ]
        }
      ]
    },
    {
      "cell_type": "markdown",
      "source": [
        "## Initialize sdk client"
      ],
      "metadata": {
        "id": "KUne2sbMYyj7"
      }
    },
    {
      "cell_type": "code",
      "source": [
        "from google import genai\n",
        "from google.genai import types\n",
        "client = genai.Client(api_key=GOOGLE_API_KEY)"
      ],
      "metadata": {
        "id": "ceMx3AS-Vasv"
      },
      "execution_count": 25,
      "outputs": []
    },
    {
      "cell_type": "code",
      "source": [],
      "metadata": {
        "id": "Fk12i0RnXhYK"
      },
      "execution_count": null,
      "outputs": []
    }
  ]
}