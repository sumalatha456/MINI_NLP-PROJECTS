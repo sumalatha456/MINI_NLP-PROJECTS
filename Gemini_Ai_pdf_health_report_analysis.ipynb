{
  "nbformat": 4,
  "nbformat_minor": 0,
  "metadata": {
    "colab": {
      "provenance": [],
      "authorship_tag": "ABX9TyOo86dtQ0g6RuCDXi0tMR4h",
      "include_colab_link": true
    },
    "kernelspec": {
      "name": "python3",
      "display_name": "Python 3"
    },
    "language_info": {
      "name": "python"
    }
  },
  "cells": [
    {
      "cell_type": "markdown",
      "metadata": {
        "id": "view-in-github",
        "colab_type": "text"
      },
      "source": [
        "<a href=\"https://colab.research.google.com/github/sumalatha456/MINI_NLP-PROJECTS/blob/main/Gemini_Ai_pdf_health_report_analysis.ipynb\" target=\"_parent\"><img src=\"https://colab.research.google.com/assets/colab-badge.svg\" alt=\"Open In Colab\"/></a>"
      ]
    },
    {
      "cell_type": "code",
      "execution_count": 3,
      "metadata": {
        "id": "FZaWy7DegDOk"
      },
      "outputs": [],
      "source": [
        "import google.generativeai as genai\n",
        "from google.colab import userdata\n",
        "\n",
        "GOOGLE_API_KEY = userdata.get('GOOGLE_API_KEY')\n",
        "genai.configure(api_key=GOOGLE_API_KEY)\n"
      ]
    },
    {
      "cell_type": "code",
      "source": [
        "!pip install PyPdf2"
      ],
      "metadata": {
        "colab": {
          "base_uri": "https://localhost:8080/"
        },
        "id": "MHX4s9AAgmBA",
        "outputId": "4ad82894-94c3-4745-8a82-d638e90a9d30"
      },
      "execution_count": 6,
      "outputs": [
        {
          "output_type": "stream",
          "name": "stdout",
          "text": [
            "Requirement already satisfied: PyPdf2 in /usr/local/lib/python3.11/dist-packages (3.0.1)\n"
          ]
        }
      ]
    },
    {
      "cell_type": "code",
      "source": [
        "import PyPDF2\n",
        "\n",
        "def extract_text_from_from_pdf(pdf_path):\n",
        "  \"\"\"Extracts text from a given health report PDF using PyPDF2.\"\"\"\n",
        "  text = \"\"\n",
        "  with open(pdf_path, \"rb\") as pdf_file:\n",
        "    pdf_reader = PyPDF2.PdfReader(pdf_file)\n",
        "    for page in pdf_reader.pages:\n",
        "      text += page.extract_text()\n",
        "  return text"
      ],
      "metadata": {
        "id": "AAOJHmHghAYh"
      },
      "execution_count": 5,
      "outputs": []
    },
    {
      "cell_type": "code",
      "source": [
        "def extract_health_insights(text):\n",
        "  \"\"\"Asks Gemini AI to extract key medical insights from the report.\"\"\"\n",
        "  model = genai.GenerativeModel(\"gemini-1.5-flash\")\n",
        "  prompt = f\"Extract key insights from the following health report:\\n\\n{text}\"\n",
        "  response = model.generate_content(prompt)\n",
        "  return response.text\n",
        "\n",
        "#Example usage\n",
        "pdf_file = \"health_report.pdf\"\n",
        "extract_text = extract_text_from_from_pdf(pdf_file)\n",
        "insights = extract_health_insights(extract_text)\n",
        "print(\"Key Insights:\\n\", insights)"
      ],
      "metadata": {
        "colab": {
          "base_uri": "https://localhost:8080/",
          "height": 471
        },
        "id": "pdT9hHpnhcTz",
        "outputId": "cf48f9c5-537e-4a99-bdda-3989a01c655b"
      },
      "execution_count": 10,
      "outputs": [
        {
          "output_type": "stream",
          "name": "stdout",
          "text": [
            "Key Insights:\n",
            " Mr. Kishan Goud's (MR2100003157) health report from February 1st, 2021, reveals the following key insights:\n",
            "\n",
            "**Infectious Diseases:**\n",
            "\n",
            "* **Negative for Dengue:**  Tests for Dengue NS1 antigen, IgG, and IgM were all negative.\n",
            "* **Widal Test:**  Elevated titers for *Salmonella Typhi* \"O\" (1:160) and \"H\" (1:80) suggest possible past or present *Salmonella Typhi* infection.  *Salmonella Paratyphi* \"AH\" and \"BH\" titers were within the normal range.  The interpretation requires clinical correlation with symptoms.\n",
            "\n",
            "**Hematology:**\n",
            "\n",
            "* **Elevated ESR:**  An elevated erythrocyte sedimentation rate (ESR) of 26 mm/hr (1st hour) and 52 mm/hr (2nd hour) indicates inflammation in the body.  This warrants further investigation to determine the underlying cause.\n",
            "* **Negative Malaria Test:** Rapid malaria tests for *Plasmodium falciparum* and *Plasmodium vivax* were negative.\n",
            "* **Complete Blood Picture (CBC):**  Hemoglobin, RBC, WBC, platelet count, and PCV were all within normal ranges. Differential count showed normal ranges for neutrophils, lymphocytes, eosinophils, monocytes, and basophils.  The peripheral blood smear showed normal RBC morphology and WBC count within normal limits.\n",
            "\n",
            "**Biochemistry:**\n",
            "\n",
            "* **Normal Blood Glucose:** Random blood glucose was within the normal range.\n",
            "* **Normal HbA1c:**  HbA1c level of 5.4% indicates good blood glucose control and is within the normal range for a non-diabetic individual.\n",
            "* **Normal Liver Function Tests (LFTs):**  All liver function tests (total bilirubin, direct bilirubin, indirect bilirubin, alkaline phosphatase, SGOT, SGPT, total protein, albumin, globulin, and A/G ratio) were within normal ranges.\n",
            "* **Normal Creatinine:** Serum creatinine was within the normal range, indicating normal kidney function.\n",
            "* **Slightly Low Sodium:** Serum sodium (122 mmol/l) is slightly below the lower limit of the reference range (135-146 mmol/l).  This needs to be considered in conjunction with other findings and clinical presentation.  Other electrolytes (potassium and chloride) are within normal limits.\n",
            "\n",
            "\n",
            "**Overall:**  While the dengue and malaria tests were negative, the elevated ESR and slightly low sodium level, coupled with the positive Widal test (requiring clinical correlation), suggest the need for further evaluation to determine the cause of the inflammation and the significance of the *Salmonella Typhi* antibodies.  The other blood tests show normal results.  A physician's interpretation considering the patient's clinical symptoms is essential.\n",
            "\n"
          ]
        }
      ]
    },
    {
      "cell_type": "code",
      "source": [
        "def summarize_health_report(text):\n",
        "  \"\"\"Summarizes the health report using Gemini AI.\"\"\"\n",
        "  model = genai.GenerativeModel(\"gemini-1.5-flash\")\n",
        "  prompt = f\"Summarize rhe following health report in a concise manner:\\n\\n{text}\"\n",
        "  response = model.generate_content(prompt)\n",
        "  return response.text\n",
        "summary = summarize_health_report(extract_text)\n",
        "print(\"Summary:\\n\", summary)"
      ],
      "metadata": {
        "colab": {
          "base_uri": "https://localhost:8080/",
          "height": 332
        },
        "id": "iglpGmfIkTAT",
        "outputId": "1a7e2e51-e369-44cf-b0f8-483e0b358e3b"
      },
      "execution_count": 11,
      "outputs": [
        {
          "output_type": "stream",
          "name": "stdout",
          "text": [
            "Summary:\n",
            " Mr. Kishan Goud's (MR2100003157) blood tests on 01/02/2021 showed:\n",
            "\n",
            "* **Widal Test:** Elevated titers for *Salmonella Typhi* \"O\" (1:160) and \"H\" (1:80), suggesting possible past or present typhoid infection.  *Salmonella Paratyphi* \"A\" and \"B\" were within normal range.\n",
            "* **Dengue Serology:** Negative for NS1 antigen, IgG, and IgM antibodies.\n",
            "* **ESR:** Elevated (26 mm/hr at 1 hour, 52 mm/hr at 2 hours), indicating inflammation.\n",
            "* **Malaria Test:** Negative for both *Plasmodium falciparum* and *Plasmodium vivax*.\n",
            "* **Complete Blood Picture:** Hemoglobin, RBC, WBC, Platelets, and PCV were within normal limits.  Differential count also within normal range.\n",
            "* **HbA1c:** 5.4% (within normal non-diabetic range).\n",
            "* **Serum Creatinine:** 0.8 mg/dl (within normal range).\n",
            "* **Random Blood Glucose:**  Not explicitly stated in the provided report.\n",
            "* **Liver Function Tests:** All values within normal limits.\n",
            "* **Serum Electrolytes:** Sodium (122 mmol/l) slightly below the lower limit of normal; Potassium and Chloride within normal limits.\n",
            "\n",
            "\n",
            "Overall, the results suggest a possible past or present typhoid infection and some degree of inflammation, as indicated by the elevated ESR.  The other tests largely showed normal results.  The slightly low sodium warrants further investigation.\n",
            "\n"
          ]
        }
      ]
    },
    {
      "cell_type": "code",
      "source": [
        "def detect_abnormalities(text):\n",
        "  \"\"\"Analyzes lab test results and flags abnormal values.\"\"\"\n",
        "  model = genai.GenerativeModel(\"gemini-1.5-flash\")\n",
        "  prompt = f\"Analyze the lab test results in the following health report and highlight any abnormal values:\\n\\n{text}\"\n",
        "  response = model.generate_content(prompt)\n",
        "  return response.text\n",
        "\n",
        "# Use 'extract_text' instead of 'extracted_text'\n",
        "abnormalities = detect_abnormalities(extract_text)\n",
        "print(\"Potential Abnormalities:\\n\" , abnormalities)"
      ],
      "metadata": {
        "colab": {
          "base_uri": "https://localhost:8080/",
          "height": 384
        },
        "id": "VDwXAknjmNFB",
        "outputId": "183a9138-cef8-457d-a490-3b90c5e751d4"
      },
      "execution_count": 16,
      "outputs": [
        {
          "output_type": "stream",
          "name": "stdout",
          "text": [
            "Potential Abnormalities:\n",
            " Based on the provided lab results, the following values are outside the reference ranges and thus considered abnormal:\n",
            "\n",
            "* **Widal Test:**  S. Typhi \"O\" (1:160) and S. Typhi \"H\" (1:80) are significantly higher than the reference range (1:20). This suggests a possible past or present infection with *Salmonella Typhi*, the bacteria causing typhoid fever.  Further investigation and clinical correlation are necessary.\n",
            "\n",
            "* **ESR:** Both the 1st hour (26 mm/hr) and 2nd hour (52 mm/hr) ESR values are elevated.  This indicates inflammation or infection somewhere in the body.  The high ESR doesn't pinpoint a specific cause; it's a nonspecific marker of inflammation.\n",
            "\n",
            "* **Serum Sodium:**  The serum sodium level (122 mmol/l) is below the reference range (135-146 mmol/l), indicating hyponatremia (low sodium). This could be due to several factors and requires further investigation.\n",
            "\n",
            "* **Serum Chloride:** The serum chloride level (97 mmol/l) is slightly below the lower limit of the reference range (98-107 mmol/l). While only marginally low, it might be clinically significant depending on other factors and should be considered in conjunction with the hyponatremia.\n",
            "\n",
            "\n",
            "**Values within or at the edge of the reference range that warrant attention:**\n",
            "\n",
            "* **RBC:**  The red blood cell count (4.3 mill/cumm) is slightly below the lower limit of the reference range (4.5-5.5 mill/cumm). This mild decrease (though within the normal range for some labs), in conjunction with other findings, could point to a underlying issue and warrants further investigation.\n",
            "* **Platelet Count:** While within the reference range (1.5-4.5 lakhs/cumm), the platelet count (2.0 lakhs/cumm) is towards the lower end. This is often associated with increased bleeding risk.\n",
            "\n",
            "\n",
            "**Important Note:**  This analysis is based solely on the lab results provided.  It is crucial to understand that lab results should always be interpreted in the context of a patient's complete medical history, physical examination, and other clinical findings by a qualified healthcare professional.  This is not a diagnosis and should not replace the advice of a physician.  Mr. Kishan Goud needs further medical evaluation to determine the cause of the abnormal values and receive appropriate treatment.\n",
            "\n"
          ]
        }
      ]
    },
    {
      "cell_type": "code",
      "source": [
        "def explain_medical_terms(text):\n",
        "  \"\"\"Asks Gemini AI to simplify medical terms for patienrts understanding.\"\"\"\n",
        "  model = genai.GenerativeModel(\"gemini-1.5-flash\")\n",
        "  prompt = f\"Explain the medical terms in the following health report in simple language:\\n\\n{text}\"\n",
        "  response = model.generate_content(prompt)\n",
        "  return response.text\n",
        "\n",
        "explanation = explain_medical_terms(extract_text)\n",
        "print(\"Simplified Explanation:\\n\", explanation)"
      ],
      "metadata": {
        "colab": {
          "base_uri": "https://localhost:8080/",
          "height": 940
        },
        "id": "dOQpIuYwopnZ",
        "outputId": "120798b7-9a96-4109-eca6-b2799e670077"
      },
      "execution_count": 17,
      "outputs": [
        {
          "output_type": "stream",
          "name": "stdout",
          "text": [
            "Simplified Explanation:\n",
            " This report shows the results of various blood tests performed on Mr. Kishan Goud. Let's break down each section:\n",
            "\n",
            "**1. WIDAL Test:** This test checks for antibodies against *Salmonella* bacteria, which cause typhoid fever and paratyphoid fever.  The numbers (e.g., 1:160) represent the dilution of the blood sample at which antibodies were still detected.  A higher number indicates a stronger response, suggesting a possible past or present infection.\n",
            "\n",
            "* **S. Typhi \"O\" 1:160:**  Indicates a significant antibody response to the \"O\" antigen of *Salmonella Typhi* (typhoid fever).\n",
            "* **S. Typhi \"H\" 1:80:** Indicates a moderate antibody response to the \"H\" antigen of *Salmonella Typhi*.\n",
            "* **S. Paratyphi \"AH\" 1:20:**  Indicates a borderline antibody response to the \"AH\" antigen of *Salmonella Paratyphi* (paratyphoid fever).  This result is at the lower limit of detection.\n",
            "* **S. Paratyphi \"BH\" 1:20:** Indicates a borderline antibody response to the \"BH\" antigen of *Salmonella Paratyphi*. This result is at the lower limit of detection.\n",
            "\n",
            "The reference range of 1:20 means that a result below that suggests no recent infection.  The results for Mr. Goud suggest a possible past exposure to *Salmonella Typhi*, but not necessarily an active infection. Further clinical evaluation is needed.\n",
            "\n",
            "\n",
            "**2. Dengue Serology:** This tests for dengue fever.  The results are negative for all three markers (NS1 antigen, IgG, and IgM antibodies), meaning no evidence of a current or recent dengue infection was found.\n",
            "\n",
            "**3. Erythrocyte Sedimentation Rate (ESR):** This test measures how quickly red blood cells settle in a tube of blood.  A higher ESR often indicates inflammation or infection in the body. Mr. Goud's ESR is elevated (26 mm/hr in the first hour and 52 mm/hr in the second hour), suggesting the presence of inflammation.\n",
            "\n",
            "\n",
            "**4. Rapid Malaria Test:** This test checks for malaria parasites in the blood.  The results are negative for both *Plasmodium vivax* (P.V) and *Plasmodium falciparum* (P.F), meaning no malaria infection was detected.\n",
            "\n",
            "**5. Complete Blood Picture (CBC):** This is a comprehensive blood test that provides information about various blood components:\n",
            "\n",
            "* **Hemoglobin (Hb):** 13.6 g/dL (within the normal range).  This measures the oxygen-carrying capacity of the blood.\n",
            "* **Red Blood Cells (RBC):** 4.3 million/cumm (slightly below the normal range).\n",
            "* **White Blood Cells (WBC):** 7,200 cells/cumm (within the normal range).  These fight infection.\n",
            "* **Platelets:** 2.0 lakhs/cumm (within the normal range).  These help with blood clotting.\n",
            "* **Packed Cell Volume (PCV):** 40.5% (within the normal range). This measures the percentage of red blood cells in the blood.\n",
            "* **Differential Count:** This breaks down the types of white blood cells.  All values are within the normal range.\n",
            "* **Peripheral Blood Smear:**  A microscopic examination of the blood sample showed normal red blood cells, normal white blood cells, and adequate platelets.\n",
            "\n",
            "\n",
            "**6. HbA1c:** This test measures average blood sugar levels over the past 2-3 months. Mr. Goud's result (5.4%) falls within the normal range for someone who doesn't have diabetes.\n",
            "\n",
            "**7. Serum Creatinine:** This test measures kidney function.  Mr. Goud's level (0.8 mg/dL) is within the normal range.\n",
            "\n",
            "**8. Random Blood Glucose:** This measures blood sugar at a single point in time. Mr. Goud's level is within the normal range.\n",
            "\n",
            "**9. Liver Function Test (LFT):** These tests assess liver health:\n",
            "\n",
            "* **Total Bilirubin, Direct Bilirubin, Indirect Bilirubin:** All bilirubin levels are within the normal range, indicating normal liver function related to bilirubin processing.\n",
            "* **Alkaline Phosphatase (ALP):** Within normal limits.\n",
            "* **SGOT (AST) and SGPT (ALT):**  These are liver enzymes; both are within the normal range.\n",
            "* **Total Protein and Albumin:** Within normal limits.\n",
            "* **Globulin:** Within normal limits.\n",
            "* **A/G Ratio:** The ratio of albumin to globulin; this is also within normal range.\n",
            "\n",
            "\n",
            "**10. Serum Electrolytes:** These tests measure the levels of sodium, potassium, and chloride in the blood, which are essential for various bodily functions.  Sodium is slightly low (122 mmol/l), while potassium and chloride are within normal ranges.\n",
            "\n",
            "\n",
            "**In summary:** While some results (elevated ESR and slightly low sodium) suggest some underlying issue, the majority of the tests are within normal ranges.  The slightly elevated ESR warrants further investigation to determine the cause of the inflammation. The Widal test results are suggestive of past exposure to Salmonella Typhi but don't confirm an active infection.  It's crucial that Mr. Kishan Goud discuss these results with his doctor (Dr. Krishna Prasad) for proper interpretation and further medical advice.  The doctor will consider these results along with the patient's symptoms and medical history to reach a diagnosis.\n",
            "\n"
          ]
        }
      ]
    },
    {
      "cell_type": "code",
      "source": [
        "def ask_gemini_about_report(text, question):\n",
        "  \"\"\"Allows users to ask questions about their health report.\"\"\"\n",
        "  model = genai.GenerativeModel(\"gemini-1.5-flash\")\n",
        "  prompt = f\"The following is a health report:\\n\\n{text}\\n\\nAnswer the following questions based on the report:\\n{question}\"\n",
        "  response = model.generate_content(prompt)\n",
        "  return response.text\n",
        "\n",
        "question = \"What is the patient's diagnosis?\"\n",
        "answer = ask_gemini_about_report(extract_text, question)\n",
        "print(\"Answer:\\n\", answer)"
      ],
      "metadata": {
        "colab": {
          "base_uri": "https://localhost:8080/",
          "height": 89
        },
        "id": "56BusGM0qLLI",
        "outputId": "50e36474-8e6e-440b-f712-4fcd2ad6d421"
      },
      "execution_count": 18,
      "outputs": [
        {
          "output_type": "stream",
          "name": "stdout",
          "text": [
            "Answer:\n",
            " The provided lab report does not offer a diagnosis.  It shows the results of various tests, some indicating slightly elevated levels (ESR, slightly low serum sodium), but these are not sufficient to make a diagnosis on their own.  A diagnosis requires clinical evaluation by a physician considering the patient's symptoms, medical history, and the results of these tests in context.  The elevated S. Typhi \"O\" and \"H\" titers suggest *past* exposure to typhoid fever, but not necessarily current infection.  The physician needs to interpret this information with the clinical picture.\n",
            "\n"
          ]
        }
      ]
    },
    {
      "cell_type": "code",
      "source": [],
      "metadata": {
        "id": "jXI5WCo9rhSi"
      },
      "execution_count": null,
      "outputs": []
    }
  ]
}